{
 "cells": [
  {
   "cell_type": "markdown",
   "metadata": {},
   "source": [
    "### 1. 环境准备\n",
    "**说明**: 安装所需的Python包,包括Google Cloud AI Platform SDK、Google Generative AI SDK和数据集处理工具。这些是运行整个项目的基础依赖。"
   ]
  },
  {
   "cell_type": "code",
   "execution_count": 2,
   "metadata": {
    "executionInfo": {
     "elapsed": 3450,
     "status": "ok",
     "timestamp": 1746769896945,
     "user": {
      "displayName": "",
      "userId": ""
     },
     "user_tz": -480
    },
    "id": "tFy3H3aPgx12"
   },
   "outputs": [],
   "source": [
    "%pip install --upgrade --quiet google-cloud-aiplatform google-genai datasets"
   ]
  },
  {
   "cell_type": "markdown",
   "metadata": {},
   "source": [
    "### 2. 内核重启\n",
    "**说明**: 重启Jupyter内核以确保新安装的包能够正常加载和使用。这是在安装新包后的标准操作。"
   ]
  },
  {
   "cell_type": "code",
   "execution_count": 3,
   "metadata": {
    "colab": {
     "base_uri": "https://localhost:8080/"
    },
    "executionInfo": {
     "elapsed": 5,
     "status": "ok",
     "timestamp": 1746769902985,
     "user": {
      "displayName": "",
      "userId": ""
     },
     "user_tz": -480
    },
    "id": "XRvKdaPDTznN",
    "outputId": "639c47dc-ca63-4d3a-cb30-7972e4875386"
   },
   "outputs": [
    {
     "data": {
      "text/plain": [
       "{'status': 'ok', 'restart': True}"
      ]
     },
     "execution_count": 3,
     "metadata": {},
     "output_type": "execute_result"
    }
   ],
   "source": [
    "import IPython\n",
    "\n",
    "app = IPython.Application.instance()\n",
    "app.kernel.do_shutdown(True)"
   ]
  },
  {
   "cell_type": "markdown",
   "metadata": {},
   "source": [
    "### 3. Google认证配置\n",
    "**说明**: 检查是否在Google Colab环境中运行,如果是则进行用户认证。这确保了我们有权限访问Google Cloud服务。"
   ]
  },
  {
   "cell_type": "code",
   "execution_count": 1,
   "metadata": {
    "colab": {
     "base_uri": "https://localhost:8080/"
    },
    "executionInfo": {
     "elapsed": 534,
     "status": "ok",
     "timestamp": 1746769915916,
     "user": {
      "displayName": "",
      "userId": ""
     },
     "user_tz": -480
    },
    "id": "NyKGtVQjgx13",
    "outputId": "0ec8a129-62c5-402e-835a-cdd6e6995373"
   },
   "outputs": [
    {
     "name": "stdout",
     "output_type": "stream",
     "text": [
      "WARNING: google.colab.auth.authenticate_user() is not supported in Colab Enterprise.\n"
     ]
    }
   ],
   "source": [
    "import sys\n",
    "\n",
    "if \"google.colab\" in sys.modules:\n",
    "    from google.colab import auth\n",
    "\n",
    "    auth.authenticate_user()"
   ]
  },
  {
   "cell_type": "markdown",
   "metadata": {},
   "source": [
    "### 4. 项目初始化\n",
    "**说明**: 设置Google Cloud项目参数,包括项目ID和地理位置,并初始化Generative AI客户端。这些设置是使用Google Cloud服务的必要配置。"
   ]
  },
  {
   "cell_type": "code",
   "execution_count": 2,
   "metadata": {
    "cellView": "code",
    "executionInfo": {
     "elapsed": 3300,
     "status": "ok",
     "timestamp": 1746769923016,
     "user": {
      "displayName": "",
      "userId": ""
     },
     "user_tz": -480
    },
    "id": "Nqwi-5ufWp_B"
   },
   "outputs": [],
   "source": [
    "# Use the environment variable if the user doesn't provide Project ID.\n",
    "import os\n",
    "\n",
    "from google import genai\n",
    "from google.genai import types\n",
    "\n",
    "PROJECT_ID = \"baidao-test-666808\"  # @param {type:\"string\", isTemplate: true}\n",
    "if PROJECT_ID == \"\":\n",
    "    PROJECT_ID = str(os.environ.get(\"GOOGLE_CLOUD_PROJECT\"))\n",
    "\n",
    "LOCATION = os.environ.get(\"GOOGLE_CLOUD_REGION\", \"us-central1\")\n",
    "\n",
    "client = genai.Client(vertexai=True, project=PROJECT_ID, location=LOCATION)"
   ]
  },
  {
   "cell_type": "markdown",
   "metadata": {
    "id": "5303c05f7aa6"
   },
   "source": [
    "### 5. 依赖库导入"
   ]
  },
  {
   "cell_type": "code",
   "execution_count": 58,
   "metadata": {
    "executionInfo": {
     "elapsed": 3520,
     "status": "ok",
     "timestamp": 1746772112455,
     "user": {
      "displayName": "",
      "userId": ""
     },
     "user_tz": -480
    },
    "id": "6fc324893334"
   },
   "outputs": [],
   "source": [
    "from collections import Counter\n",
    "import json\n",
    "import random\n",
    "\n",
    "# Vertex AI SDK\n",
    "from google.cloud import aiplatform\n",
    "from google.cloud.aiplatform.metadata import context\n",
    "from google.cloud.aiplatform.metadata import utils as metadata_utils\n",
    "import numpy as np\n",
    "import pandas as pd\n",
    "import plotly.graph_objects as go\n",
    "from plotly.subplots import make_subplots\n",
    "import vertexai\n",
    "from datasets import load_dataset\n",
    "import json\n",
    "import random\n",
    "import pandas as pd\n",
    "\n",
    "vertexai.init(project=PROJECT_ID, location=LOCATION)"
   ]
  },
  {
   "cell_type": "markdown",
   "metadata": {},
   "source": [
    "### 6. 存储配置\n",
    "**说明**: 配置Google Cloud Storage存储桶,用于存储训练数据"
   ]
  },
  {
   "cell_type": "code",
   "execution_count": 59,
   "metadata": {
    "colab": {
     "base_uri": "https://localhost:8080/"
    },
    "executionInfo": {
     "elapsed": 3,
     "status": "ok",
     "timestamp": 1746772119324,
     "user": {
      "displayName": "",
      "userId": ""
     },
     "user_tz": -480
    },
    "id": "lit30Cktbfvo",
    "outputId": "2b12bd5f-6ff3-4f62-e11f-1dafad995474"
   },
   "outputs": [
    {
     "name": "stdout",
     "output_type": "stream",
     "text": [
      "gs://sql-create-context\n"
     ]
    }
   ],
   "source": [
    "# Provide a bucket name\n",
    "BUCKET_NAME = \"sql-create-context\"  # @param {type:\"string\"}\n",
    "BUCKET_URI = f\"gs://{BUCKET_NAME}\"\n",
    "print(BUCKET_URI)"
   ]
  },
  {
   "cell_type": "markdown",
   "metadata": {},
   "source": [
    "### 7. 数据集处理\n",
    "**说明**: 加载SQL生成数据集并进行训练集、验证集、测试集的划分。"
   ]
  },
  {
   "cell_type": "code",
   "execution_count": 97,
   "metadata": {
    "executionInfo": {
     "elapsed": 6630,
     "status": "ok",
     "timestamp": 1746773371998,
     "user": {
      "displayName": "",
      "userId": ""
     },
     "user_tz": -480
    },
    "id": "E-vS-5Xpn0C_"
   },
   "outputs": [],
   "source": [
    "# 加载数据集（From Hugging Face）\n",
    "ds = load_dataset(\"b-mc2/sql-create-context\")\n",
    "\n",
    "# 获取训练集数据\n",
    "data = ds['train']\n",
    "\n",
    "# 首先将数据分成 train 和 remaining (9:1)\n",
    "train_test = data.train_test_split(test_size=0.2, seed=42)\n",
    "train_data = train_test['train']\n",
    "\n",
    "# 将 remaining 数据再次分成 valid 和 test (1:1)\n",
    "remaining = train_test['test'].train_test_split(test_size=0.5, seed=42)\n",
    "valid_data = remaining['train']\n",
    "test_data = remaining['test']\n",
    "\n",
    "# 将数据集转换为DataFrame\n",
    "train_df = pd.DataFrame(train_data)\n",
    "valid_df = pd.DataFrame(valid_data)\n",
    "test_df = pd.DataFrame(test_data)"
   ]
  },
  {
   "cell_type": "markdown",
   "metadata": {},
   "source": [
    "### 8. 数据采样\n",
    "**说明**: 从各个数据集中随机采样10%的数据,以减少计算资源需求并加快训练过程。"
   ]
  },
  {
   "cell_type": "code",
   "execution_count": 98,
   "metadata": {
    "colab": {
     "base_uri": "https://localhost:8080/"
    },
    "executionInfo": {
     "elapsed": 496,
     "status": "ok",
     "timestamp": 1746773374220,
     "user": {
      "displayName": "",
      "userId": ""
     },
     "user_tz": -480
    },
    "id": "xINJpSEqqhSR",
    "outputId": "406e966d-b871-4a01-defd-c04c0e4161e6"
   },
   "outputs": [
    {
     "name": "stdout",
     "output_type": "stream",
     "text": [
      "Sampled train DataFrame size: 6286\n",
      "Sampled validation DataFrame size: 786\n",
      "Sampled test DataFrame size: 786\n"
     ]
    }
   ],
   "source": [
    "train_df = train_df.sample(frac=0.1, random_state=42)\n",
    "valid_df = valid_df.sample(frac=0.1, random_state=42)\n",
    "test_df = test_df.sample(frac=0.1, random_state=42)\n",
    "\n",
    "# 打印抽样后的DataFrame大小\n",
    "print(f\"Sampled train DataFrame size: {len(train_df)}\")\n",
    "print(f\"Sampled validation DataFrame size: {len(valid_df)}\")\n",
    "print(f\"Sampled test DataFrame size: {len(test_df)}\")"
   ]
  },
  {
   "cell_type": "code",
   "execution_count": 99,
   "metadata": {
    "colab": {
     "base_uri": "https://localhost:8080/",
     "height": 112
    },
    "executionInfo": {
     "elapsed": 557,
     "status": "ok",
     "timestamp": 1746773377407,
     "user": {
      "displayName": "",
      "userId": ""
     },
     "user_tz": -480
    },
    "id": "LkOmXpegA8CW",
    "outputId": "e514eb33-9dd1-4412-a7de-3d35590df0f8"
   },
   "outputs": [
    {
     "data": {
      "application/vnd.google.colaboratory.intrinsic+json": {
       "summary": "{\n  \"name\": \"test_df\",\n  \"rows\": 786,\n  \"fields\": [\n    {\n      \"column\": \"answer\",\n      \"properties\": {\n        \"dtype\": \"string\",\n        \"num_unique_values\": 786,\n        \"samples\": [\n          \"SELECT outcome FROM table_name_57 WHERE score_in_the_final = \\\"3\\u20136, 1\\u20136\\\"\",\n          \"SELECT MIN(goals) FROM table_name_98 WHERE years = \\\"2008-present\\\" AND player = \\\"tony beltran\\\" AND rank > 7\",\n          \"SELECT MIN(lost) FROM table_name_46 WHERE team = \\\"s\\u00e3o paulo railway\\\" AND points > 21\"\n        ],\n        \"semantic_type\": \"\",\n        \"description\": \"\"\n      }\n    },\n    {\n      \"column\": \"question\",\n      \"properties\": {\n        \"dtype\": \"string\",\n        \"num_unique_values\": 786,\n        \"samples\": [\n          \"Which Outcome has a Score in the final of 3\\u20136, 1\\u20136?\",\n          \"What is the smallest number of goals for the player from 2008-present named tony beltran, ranked lower than 7?\",\n          \"What is the lowest Lost for s\\u00e3o paulo railway, Points more than 21?\"\n        ],\n        \"semantic_type\": \"\",\n        \"description\": \"\"\n      }\n    },\n    {\n      \"column\": \"context\",\n      \"properties\": {\n        \"dtype\": \"string\",\n        \"num_unique_values\": 786,\n        \"samples\": [\n          \"CREATE TABLE table_name_57 (outcome VARCHAR, score_in_the_final VARCHAR)\",\n          \"CREATE TABLE table_name_98 (goals INTEGER, rank VARCHAR, years VARCHAR, player VARCHAR)\",\n          \"CREATE TABLE table_name_46 (lost INTEGER, team VARCHAR, points VARCHAR)\"\n        ],\n        \"semantic_type\": \"\",\n        \"description\": \"\"\n      }\n    }\n  ]\n}",
       "type": "dataframe",
       "variable_name": "test_df"
      },
      "text/html": [
       "\n",
       "  <div id=\"df-dfa735ae-afa0-4b0b-a928-f31de2a6eb03\" class=\"colab-df-container\">\n",
       "    <div>\n",
       "<style scoped>\n",
       "    .dataframe tbody tr th:only-of-type {\n",
       "        vertical-align: middle;\n",
       "    }\n",
       "\n",
       "    .dataframe tbody tr th {\n",
       "        vertical-align: top;\n",
       "    }\n",
       "\n",
       "    .dataframe thead th {\n",
       "        text-align: right;\n",
       "    }\n",
       "</style>\n",
       "<table border=\"1\" class=\"dataframe\">\n",
       "  <thead>\n",
       "    <tr style=\"text-align: right;\">\n",
       "      <th></th>\n",
       "      <th>answer</th>\n",
       "      <th>question</th>\n",
       "      <th>context</th>\n",
       "    </tr>\n",
       "  </thead>\n",
       "  <tbody>\n",
       "    <tr>\n",
       "      <th>7093</th>\n",
       "      <td>SELECT rating___percentage_ FROM table_name_73...</td>\n",
       "      <td>Name the rating % for channel of anhui satelli...</td>\n",
       "      <td>CREATE TABLE table_name_73 (rating___percentag...</td>\n",
       "    </tr>\n",
       "    <tr>\n",
       "      <th>1405</th>\n",
       "      <td>SELECT us_viewers__millions_ FROM table_222652...</td>\n",
       "      <td>How many million U.s. Viewers watched episode ...</td>\n",
       "      <td>CREATE TABLE table_22265225_1 (us_viewers__mil...</td>\n",
       "    </tr>\n",
       "  </tbody>\n",
       "</table>\n",
       "</div>\n",
       "    <div class=\"colab-df-buttons\">\n",
       "\n",
       "  <div class=\"colab-df-container\">\n",
       "    <button class=\"colab-df-convert\" onclick=\"convertToInteractive('df-dfa735ae-afa0-4b0b-a928-f31de2a6eb03')\"\n",
       "            title=\"Convert this dataframe to an interactive table.\"\n",
       "            style=\"display:none;\">\n",
       "\n",
       "  <svg xmlns=\"http://www.w3.org/2000/svg\" height=\"24px\" viewBox=\"0 -960 960 960\">\n",
       "    <path d=\"M120-120v-720h720v720H120Zm60-500h600v-160H180v160Zm220 220h160v-160H400v160Zm0 220h160v-160H400v160ZM180-400h160v-160H180v160Zm440 0h160v-160H620v160ZM180-180h160v-160H180v160Zm440 0h160v-160H620v160Z\"/>\n",
       "  </svg>\n",
       "    </button>\n",
       "\n",
       "  <style>\n",
       "    .colab-df-container {\n",
       "      display:flex;\n",
       "      gap: 12px;\n",
       "    }\n",
       "\n",
       "    .colab-df-convert {\n",
       "      background-color: #E8F0FE;\n",
       "      border: none;\n",
       "      border-radius: 50%;\n",
       "      cursor: pointer;\n",
       "      display: none;\n",
       "      fill: #1967D2;\n",
       "      height: 32px;\n",
       "      padding: 0 0 0 0;\n",
       "      width: 32px;\n",
       "    }\n",
       "\n",
       "    .colab-df-convert:hover {\n",
       "      background-color: #E2EBFA;\n",
       "      box-shadow: 0px 1px 2px rgba(60, 64, 67, 0.3), 0px 1px 3px 1px rgba(60, 64, 67, 0.15);\n",
       "      fill: #174EA6;\n",
       "    }\n",
       "\n",
       "    .colab-df-buttons div {\n",
       "      margin-bottom: 4px;\n",
       "    }\n",
       "\n",
       "    [theme=dark] .colab-df-convert {\n",
       "      background-color: #3B4455;\n",
       "      fill: #D2E3FC;\n",
       "    }\n",
       "\n",
       "    [theme=dark] .colab-df-convert:hover {\n",
       "      background-color: #434B5C;\n",
       "      box-shadow: 0px 1px 3px 1px rgba(0, 0, 0, 0.15);\n",
       "      filter: drop-shadow(0px 1px 2px rgba(0, 0, 0, 0.3));\n",
       "      fill: #FFFFFF;\n",
       "    }\n",
       "  </style>\n",
       "\n",
       "    <script>\n",
       "      const buttonEl =\n",
       "        document.querySelector('#df-dfa735ae-afa0-4b0b-a928-f31de2a6eb03 button.colab-df-convert');\n",
       "      buttonEl.style.display =\n",
       "        google.colab.kernel.accessAllowed ? 'block' : 'none';\n",
       "\n",
       "      async function convertToInteractive(key) {\n",
       "        const element = document.querySelector('#df-dfa735ae-afa0-4b0b-a928-f31de2a6eb03');\n",
       "        const dataTable =\n",
       "          await google.colab.kernel.invokeFunction('convertToInteractive',\n",
       "                                                    [key], {});\n",
       "        if (!dataTable) return;\n",
       "\n",
       "        const docLinkHtml = 'Like what you see? Visit the ' +\n",
       "          '<a target=\"_blank\" href=https://colab.research.google.com/notebooks/data_table.ipynb>data table notebook</a>'\n",
       "          + ' to learn more about interactive tables.';\n",
       "        element.innerHTML = '';\n",
       "        dataTable['output_type'] = 'display_data';\n",
       "        await google.colab.output.renderOutput(dataTable, element);\n",
       "        const docLink = document.createElement('div');\n",
       "        docLink.innerHTML = docLinkHtml;\n",
       "        element.appendChild(docLink);\n",
       "      }\n",
       "    </script>\n",
       "  </div>\n",
       "\n",
       "\n",
       "<div id=\"df-c27465b4-e74e-4cf0-aa15-1bb8c1cc7c14\">\n",
       "  <button class=\"colab-df-quickchart\" onclick=\"quickchart('df-c27465b4-e74e-4cf0-aa15-1bb8c1cc7c14')\"\n",
       "            title=\"Suggest charts\"\n",
       "            style=\"display:none;\">\n",
       "\n",
       "<svg xmlns=\"http://www.w3.org/2000/svg\" height=\"24px\"viewBox=\"0 0 24 24\"\n",
       "     width=\"24px\">\n",
       "    <g>\n",
       "        <path d=\"M19 3H5c-1.1 0-2 .9-2 2v14c0 1.1.9 2 2 2h14c1.1 0 2-.9 2-2V5c0-1.1-.9-2-2-2zM9 17H7v-7h2v7zm4 0h-2V7h2v10zm4 0h-2v-4h2v4z\"/>\n",
       "    </g>\n",
       "</svg>\n",
       "  </button>\n",
       "\n",
       "<style>\n",
       "  .colab-df-quickchart {\n",
       "      --bg-color: #E8F0FE;\n",
       "      --fill-color: #1967D2;\n",
       "      --hover-bg-color: #E2EBFA;\n",
       "      --hover-fill-color: #174EA6;\n",
       "      --disabled-fill-color: #AAA;\n",
       "      --disabled-bg-color: #DDD;\n",
       "  }\n",
       "\n",
       "  [theme=dark] .colab-df-quickchart {\n",
       "      --bg-color: #3B4455;\n",
       "      --fill-color: #D2E3FC;\n",
       "      --hover-bg-color: #434B5C;\n",
       "      --hover-fill-color: #FFFFFF;\n",
       "      --disabled-bg-color: #3B4455;\n",
       "      --disabled-fill-color: #666;\n",
       "  }\n",
       "\n",
       "  .colab-df-quickchart {\n",
       "    background-color: var(--bg-color);\n",
       "    border: none;\n",
       "    border-radius: 50%;\n",
       "    cursor: pointer;\n",
       "    display: none;\n",
       "    fill: var(--fill-color);\n",
       "    height: 32px;\n",
       "    padding: 0;\n",
       "    width: 32px;\n",
       "  }\n",
       "\n",
       "  .colab-df-quickchart:hover {\n",
       "    background-color: var(--hover-bg-color);\n",
       "    box-shadow: 0 1px 2px rgba(60, 64, 67, 0.3), 0 1px 3px 1px rgba(60, 64, 67, 0.15);\n",
       "    fill: var(--button-hover-fill-color);\n",
       "  }\n",
       "\n",
       "  .colab-df-quickchart-complete:disabled,\n",
       "  .colab-df-quickchart-complete:disabled:hover {\n",
       "    background-color: var(--disabled-bg-color);\n",
       "    fill: var(--disabled-fill-color);\n",
       "    box-shadow: none;\n",
       "  }\n",
       "\n",
       "  .colab-df-spinner {\n",
       "    border: 2px solid var(--fill-color);\n",
       "    border-color: transparent;\n",
       "    border-bottom-color: var(--fill-color);\n",
       "    animation:\n",
       "      spin 1s steps(1) infinite;\n",
       "  }\n",
       "\n",
       "  @keyframes spin {\n",
       "    0% {\n",
       "      border-color: transparent;\n",
       "      border-bottom-color: var(--fill-color);\n",
       "      border-left-color: var(--fill-color);\n",
       "    }\n",
       "    20% {\n",
       "      border-color: transparent;\n",
       "      border-left-color: var(--fill-color);\n",
       "      border-top-color: var(--fill-color);\n",
       "    }\n",
       "    30% {\n",
       "      border-color: transparent;\n",
       "      border-left-color: var(--fill-color);\n",
       "      border-top-color: var(--fill-color);\n",
       "      border-right-color: var(--fill-color);\n",
       "    }\n",
       "    40% {\n",
       "      border-color: transparent;\n",
       "      border-right-color: var(--fill-color);\n",
       "      border-top-color: var(--fill-color);\n",
       "    }\n",
       "    60% {\n",
       "      border-color: transparent;\n",
       "      border-right-color: var(--fill-color);\n",
       "    }\n",
       "    80% {\n",
       "      border-color: transparent;\n",
       "      border-right-color: var(--fill-color);\n",
       "      border-bottom-color: var(--fill-color);\n",
       "    }\n",
       "    90% {\n",
       "      border-color: transparent;\n",
       "      border-bottom-color: var(--fill-color);\n",
       "    }\n",
       "  }\n",
       "</style>\n",
       "\n",
       "  <script>\n",
       "    async function quickchart(key) {\n",
       "      const quickchartButtonEl =\n",
       "        document.querySelector('#' + key + ' button');\n",
       "      quickchartButtonEl.disabled = true;  // To prevent multiple clicks.\n",
       "      quickchartButtonEl.classList.add('colab-df-spinner');\n",
       "      try {\n",
       "        const charts = await google.colab.kernel.invokeFunction(\n",
       "            'suggestCharts', [key], {});\n",
       "      } catch (error) {\n",
       "        console.error('Error during call to suggestCharts:', error);\n",
       "      }\n",
       "      quickchartButtonEl.classList.remove('colab-df-spinner');\n",
       "      quickchartButtonEl.classList.add('colab-df-quickchart-complete');\n",
       "    }\n",
       "    (() => {\n",
       "      let quickchartButtonEl =\n",
       "        document.querySelector('#df-c27465b4-e74e-4cf0-aa15-1bb8c1cc7c14 button');\n",
       "      quickchartButtonEl.style.display =\n",
       "        google.colab.kernel.accessAllowed ? 'block' : 'none';\n",
       "    })();\n",
       "  </script>\n",
       "</div>\n",
       "\n",
       "    </div>\n",
       "  </div>\n"
      ],
      "text/plain": [
       "                                                 answer  \\\n",
       "7093  SELECT rating___percentage_ FROM table_name_73...   \n",
       "1405  SELECT us_viewers__millions_ FROM table_222652...   \n",
       "\n",
       "                                               question  \\\n",
       "7093  Name the rating % for channel of anhui satelli...   \n",
       "1405  How many million U.s. Viewers watched episode ...   \n",
       "\n",
       "                                                context  \n",
       "7093  CREATE TABLE table_name_73 (rating___percentag...  \n",
       "1405  CREATE TABLE table_22265225_1 (us_viewers__mil...  "
      ]
     },
     "execution_count": 99,
     "metadata": {},
     "output_type": "execute_result"
    }
   ],
   "source": [
    "test_df.head(2)"
   ]
  },
  {
   "cell_type": "markdown",
   "metadata": {},
   "source": [
    "### 9. 系统提示设置\n",
    "**说明**: 创建系统提示文本，并结合few shot examples"
   ]
  },
  {
   "cell_type": "code",
   "execution_count": 100,
   "metadata": {
    "executionInfo": {
     "elapsed": 496,
     "status": "ok",
     "timestamp": 1746773380474,
     "user": {
      "displayName": "",
      "userId": ""
     },
     "user_tz": -480
    },
    "id": "6HXBgGFZB3hx"
   },
   "outputs": [],
   "source": [
    "row_dataset = random.randint(0, 100)"
   ]
  },
  {
   "cell_type": "code",
   "execution_count": 101,
   "metadata": {
    "colab": {
     "base_uri": "https://localhost:8080/"
    },
    "collapsed": true,
    "executionInfo": {
     "elapsed": 3,
     "status": "ok",
     "timestamp": 1746773381999,
     "user": {
      "displayName": "",
      "userId": ""
     },
     "user_tz": -480
    },
    "id": "jdKUBaA4ZOFg",
    "outputId": "0fc28ff8-ac08-4bb8-fd39-3aca01b22683"
   },
   "outputs": [
    {
     "name": "stdout",
     "output_type": "stream",
     "text": [
      "Context: CREATE TABLE table_name_40 (goals VARCHAR, name VARCHAR, debut_year VARCHAR)\n",
      "Question: How many goals occurred with Diego Milito in a debut year later than 2008?\n",
      "Answer: SELECT COUNT(goals) FROM table_name_40 WHERE name = \"diego milito\" AND debut_year > 2008\n",
      "\n",
      "Context: CREATE TABLE table_1670921_2 (wicket VARCHAR, runs VARCHAR, fielding_team VARCHAR)\n",
      "Question: What are the wickets when there are 451 runs and india is the fielding team?\n",
      "Answer: SELECT wicket FROM table_1670921_2 WHERE runs = \"451\" AND fielding_team = \"India\"\n",
      "\n",
      "Context: CREATE TABLE table_name_98 (_number_of_bids VARCHAR, conference VARCHAR)\n",
      "Question: How many bids does Atlantic 10 have?\n",
      "Answer: SELECT _number_of_bids FROM table_name_98 WHERE conference = \"atlantic 10\"\n",
      "\n",
      "\n"
     ]
    }
   ],
   "source": [
    "few_shot_examples = test_df.sample(3)\n",
    "dropped_indices = few_shot_examples.index\n",
    "test_df = test_df.drop(dropped_indices)\n",
    "\n",
    "few_shot_prompt = \"\"\n",
    "for _, row in few_shot_examples.iterrows():\n",
    "    few_shot_prompt += (\n",
    "        f\"Context: {row.context}\\nQuestion: {row.question}\\nAnswer: {row.answer}\\n\\n\"\n",
    "    )\n",
    "\n",
    "print(few_shot_prompt)"
   ]
  },
  {
   "cell_type": "code",
   "execution_count": 102,
   "metadata": {
    "executionInfo": {
     "elapsed": 490,
     "status": "ok",
     "timestamp": 1746773385210,
     "user": {
      "displayName": "",
      "userId": ""
     },
     "user_tz": -480
    },
    "id": "-uJSrdU3aDi9"
   },
   "outputs": [],
   "source": [
    "systemInstruct = f\"\"\"You are a Database Query Assistant. Your role is to generate SQL queries based on user questions and the provided context. The context will be provided in the form of CREATE TABLE statements that define the database schema.\\n\\n\n",
    "Here are some examples: \\n\\n\n",
    "{few_shot_prompt}\"\"\""
   ]
  },
  {
   "cell_type": "code",
   "execution_count": 103,
   "metadata": {
    "colab": {
     "base_uri": "https://localhost:8080/"
    },
    "collapsed": true,
    "executionInfo": {
     "elapsed": 507,
     "status": "ok",
     "timestamp": 1746773386867,
     "user": {
      "displayName": "",
      "userId": ""
     },
     "user_tz": -480
    },
    "id": "N_u3VzUMsyqj",
    "outputId": "9df9beaa-4cc5-4dfc-b39b-3a3d723a1d3a"
   },
   "outputs": [
    {
     "name": "stdout",
     "output_type": "stream",
     "text": [
      "You are a Database Query Assistant. Your role is to generate SQL queries based on user questions and the provided context. The context will be provided in the form of CREATE TABLE statements that define the database schema.\n",
      "\n",
      "\n",
      "Here are some examples: \n",
      "\n",
      "\n",
      "Context: CREATE TABLE table_name_40 (goals VARCHAR, name VARCHAR, debut_year VARCHAR)\n",
      "Question: How many goals occurred with Diego Milito in a debut year later than 2008?\n",
      "Answer: SELECT COUNT(goals) FROM table_name_40 WHERE name = \"diego milito\" AND debut_year > 2008\n",
      "\n",
      "Context: CREATE TABLE table_1670921_2 (wicket VARCHAR, runs VARCHAR, fielding_team VARCHAR)\n",
      "Question: What are the wickets when there are 451 runs and india is the fielding team?\n",
      "Answer: SELECT wicket FROM table_1670921_2 WHERE runs = \"451\" AND fielding_team = \"India\"\n",
      "\n",
      "Context: CREATE TABLE table_name_98 (_number_of_bids VARCHAR, conference VARCHAR)\n",
      "Question: How many bids does Atlantic 10 have?\n",
      "Answer: SELECT _number_of_bids FROM table_name_98 WHERE conference = \"atlantic 10\"\n",
      "\n",
      "\n",
      "\n",
      "\n",
      "**Below the question with context that you need to answer**\n",
      "Context: CREATE TABLE table_29897962_1 (directed_by VARCHAR, us_viewers__million_ VARCHAR)\n",
      "Question: Who directed the episode that had 3.55 million viewers?\n"
     ]
    }
   ],
   "source": [
    "test_df[\"systemInstruct\"] = systemInstruct\n",
    "\n",
    "test_df[\"input_question\"] = (\n",
    "    \"\\n\\n**Below the question with context that you need to answer**\"\n",
    "    + \"\\nContext: \" + test_df[\"context\"]\n",
    "    + \"\\nQuestion: \" + test_df[\"question\"]\n",
    ")\n",
    "\n",
    "test_systemInstruct = test_df[\"systemInstruct\"].iloc[row_dataset]\n",
    "print(test_systemInstruct)\n",
    "test_question = test_df[\"input_question\"].iloc[row_dataset]\n",
    "print(test_question)"
   ]
  },
  {
   "cell_type": "code",
   "execution_count": 104,
   "metadata": {
    "executionInfo": {
     "elapsed": 637,
     "status": "ok",
     "timestamp": 1746773390217,
     "user": {
      "displayName": "",
      "userId": ""
     },
     "user_tz": -480
    },
    "id": "t-5X4goiqqBQ"
   },
   "outputs": [],
   "source": [
    "base_model = \"gemini-2.0-flash-lite-001\""
   ]
  },
  {
   "cell_type": "code",
   "execution_count": 105,
   "metadata": {
    "executionInfo": {
     "elapsed": 3,
     "status": "ok",
     "timestamp": 1746773391221,
     "user": {
      "displayName": "",
      "userId": ""
     },
     "user_tz": -480
    },
    "id": "udTxzY8mpGYf"
   },
   "outputs": [],
   "source": [
    "def get_predictions(question: str, model_version: str) -> str:\n",
    "\n",
    "    prompt = question\n",
    "    base_model = model_version\n",
    "\n",
    "    response = client.models.generate_content(\n",
    "        model=base_model,\n",
    "        contents=prompt,\n",
    "        config={\n",
    "            \"system_instruction\": systemInstruct,\n",
    "            \"temperature\": 0.3,\n",
    "        },\n",
    "    )\n",
    "\n",
    "    return response.text"
   ]
  },
  {
   "cell_type": "code",
   "execution_count": 106,
   "metadata": {
    "colab": {
     "base_uri": "https://localhost:8080/"
    },
    "collapsed": true,
    "executionInfo": {
     "elapsed": 517,
     "status": "ok",
     "timestamp": 1746773393692,
     "user": {
      "displayName": "",
      "userId": ""
     },
     "user_tz": -480
    },
    "id": "PFvwmGll3MIv",
    "outputId": "85b89b5b-078e-493c-f13b-e51e67ee8b14"
   },
   "outputs": [
    {
     "name": "stdout",
     "output_type": "stream",
     "text": [
      "Gemini response: SELECT directed_by FROM table_29897962_1 WHERE us_viewers__million_ = \"3.55\"\n",
      "\n",
      "Actual answer: SELECT directed_by FROM table_29897962_1 WHERE us_viewers__million_ = \"3.55\"\n"
     ]
    }
   ],
   "source": [
    "test_answer = test_df[\"answer\"].iloc[row_dataset]\n",
    "response = get_predictions(test_question, base_model)\n",
    "\n",
    "print(f\"Gemini response: {response}\")\n",
    "print(f\"Actual answer: {test_answer}\")"
   ]
  },
  {
   "cell_type": "markdown",
   "metadata": {},
   "source": [
    "### 10.测试原版模型结果"
   ]
  },
  {
   "cell_type": "code",
   "execution_count": 118,
   "metadata": {
    "colab": {
     "base_uri": "https://localhost:8080/",
     "height": 164
    },
    "executionInfo": {
     "elapsed": 280999,
     "status": "ok",
     "timestamp": 1746773865131,
     "user": {
      "displayName": "",
      "userId": ""
     },
     "user_tz": -480
    },
    "id": "oQEEaRZZFgCD",
    "outputId": "01a761e8-3998-4e0d-d79a-ff9f6e16a82d"
   },
   "outputs": [
    {
     "name": "stderr",
     "output_type": "stream",
     "text": [
      "100%|██████████| 783/783 [04:40<00:00,  2.79it/s]\n"
     ]
    },
    {
     "data": {
      "application/vnd.google.colaboratory.intrinsic+json": {
       "summary": "{\n  \"name\": \"test_df\",\n  \"rows\": 783,\n  \"fields\": [\n    {\n      \"column\": \"answer\",\n      \"properties\": {\n        \"dtype\": \"string\",\n        \"num_unique_values\": 783,\n        \"samples\": [\n          \"SELECT SUM(goals) FROM table_name_65 WHERE player = \\\"dave taylor\\\" AND tries > 1\",\n          \"SELECT sequencer FROM table_127511_1 WHERE ion_torrent_pgm = \\\"200-400 bp\\\"\",\n          \"SELECT location_attendance FROM table_name_52 WHERE date = \\\"february 25\\\"\"\n        ],\n        \"semantic_type\": \"\",\n        \"description\": \"\"\n      }\n    },\n    {\n      \"column\": \"question\",\n      \"properties\": {\n        \"dtype\": \"string\",\n        \"num_unique_values\": 783,\n        \"samples\": [\n          \"What is the number of goals Dave Taylor, who has more than 1 tries, has?\",\n          \"What is the sequencer when ion torrent pgm is 200-400 bp?\",\n          \"What is the location attendance of the game on February 25?\"\n        ],\n        \"semantic_type\": \"\",\n        \"description\": \"\"\n      }\n    },\n    {\n      \"column\": \"context\",\n      \"properties\": {\n        \"dtype\": \"string\",\n        \"num_unique_values\": 783,\n        \"samples\": [\n          \"CREATE TABLE table_name_65 (goals INTEGER, player VARCHAR, tries VARCHAR)\",\n          \"CREATE TABLE table_127511_1 (sequencer VARCHAR, ion_torrent_pgm VARCHAR)\",\n          \"CREATE TABLE table_name_52 (location_attendance VARCHAR, date VARCHAR)\"\n        ],\n        \"semantic_type\": \"\",\n        \"description\": \"\"\n      }\n    },\n    {\n      \"column\": \"systemInstruct\",\n      \"properties\": {\n        \"dtype\": \"category\",\n        \"num_unique_values\": 1,\n        \"samples\": [\n          \"You are a Database Query Assistant. Your role is to generate SQL queries based on user questions and the provided context. The context will be provided in the form of CREATE TABLE statements that define the database schema.\\n\\n\\nHere are some examples: \\n\\n\\nContext: CREATE TABLE table_name_40 (goals VARCHAR, name VARCHAR, debut_year VARCHAR)\\nQuestion: How many goals occurred with Diego Milito in a debut year later than 2008?\\nAnswer: SELECT COUNT(goals) FROM table_name_40 WHERE name = \\\"diego milito\\\" AND debut_year > 2008\\n\\nContext: CREATE TABLE table_1670921_2 (wicket VARCHAR, runs VARCHAR, fielding_team VARCHAR)\\nQuestion: What are the wickets when there are 451 runs and india is the fielding team?\\nAnswer: SELECT wicket FROM table_1670921_2 WHERE runs = \\\"451\\\" AND fielding_team = \\\"India\\\"\\n\\nContext: CREATE TABLE table_name_98 (_number_of_bids VARCHAR, conference VARCHAR)\\nQuestion: How many bids does Atlantic 10 have?\\nAnswer: SELECT _number_of_bids FROM table_name_98 WHERE conference = \\\"atlantic 10\\\"\\n\\n\"\n        ],\n        \"semantic_type\": \"\",\n        \"description\": \"\"\n      }\n    },\n    {\n      \"column\": \"input_question\",\n      \"properties\": {\n        \"dtype\": \"string\",\n        \"num_unique_values\": 783,\n        \"samples\": [\n          \"\\n\\n**Below the question with context that you need to answer**\\nContext: CREATE TABLE table_name_65 (goals INTEGER, player VARCHAR, tries VARCHAR)\\nQuestion: What is the number of goals Dave Taylor, who has more than 1 tries, has?\"\n        ],\n        \"semantic_type\": \"\",\n        \"description\": \"\"\n      }\n    },\n    {\n      \"column\": \"predicted_answer\",\n      \"properties\": {\n        \"dtype\": \"string\",\n        \"num_unique_values\": 783,\n        \"samples\": [\n          \"```sql\\nSELECT goals FROM table_name_65 WHERE player = \\\"dave taylor\\\" AND CAST(tries AS INTEGER) > 1\\n```\"\n        ],\n        \"semantic_type\": \"\",\n        \"description\": \"\"\n      }\n    }\n  ]\n}",
       "type": "dataframe",
       "variable_name": "test_df"
      },
      "text/html": [
       "\n",
       "  <div id=\"df-87a31b04-a8d2-4108-8642-b78f39d5dc04\" class=\"colab-df-container\">\n",
       "    <div>\n",
       "<style scoped>\n",
       "    .dataframe tbody tr th:only-of-type {\n",
       "        vertical-align: middle;\n",
       "    }\n",
       "\n",
       "    .dataframe tbody tr th {\n",
       "        vertical-align: top;\n",
       "    }\n",
       "\n",
       "    .dataframe thead th {\n",
       "        text-align: right;\n",
       "    }\n",
       "</style>\n",
       "<table border=\"1\" class=\"dataframe\">\n",
       "  <thead>\n",
       "    <tr style=\"text-align: right;\">\n",
       "      <th></th>\n",
       "      <th>answer</th>\n",
       "      <th>question</th>\n",
       "      <th>context</th>\n",
       "      <th>systemInstruct</th>\n",
       "      <th>input_question</th>\n",
       "      <th>predicted_answer</th>\n",
       "    </tr>\n",
       "  </thead>\n",
       "  <tbody>\n",
       "    <tr>\n",
       "      <th>7093</th>\n",
       "      <td>SELECT rating___percentage_ FROM table_name_73...</td>\n",
       "      <td>Name the rating % for channel of anhui satelli...</td>\n",
       "      <td>CREATE TABLE table_name_73 (rating___percentag...</td>\n",
       "      <td>You are a Database Query Assistant. Your role ...</td>\n",
       "      <td>\\n\\n**Below the question with context that you...</td>\n",
       "      <td>SELECT rating___percentage_ FROM table_name_73...</td>\n",
       "    </tr>\n",
       "    <tr>\n",
       "      <th>1405</th>\n",
       "      <td>SELECT us_viewers__millions_ FROM table_222652...</td>\n",
       "      <td>How many million U.s. Viewers watched episode ...</td>\n",
       "      <td>CREATE TABLE table_22265225_1 (us_viewers__mil...</td>\n",
       "      <td>You are a Database Query Assistant. Your role ...</td>\n",
       "      <td>\\n\\n**Below the question with context that you...</td>\n",
       "      <td>SELECT us_viewers__millions_ FROM table_222652...</td>\n",
       "    </tr>\n",
       "  </tbody>\n",
       "</table>\n",
       "</div>\n",
       "    <div class=\"colab-df-buttons\">\n",
       "\n",
       "  <div class=\"colab-df-container\">\n",
       "    <button class=\"colab-df-convert\" onclick=\"convertToInteractive('df-87a31b04-a8d2-4108-8642-b78f39d5dc04')\"\n",
       "            title=\"Convert this dataframe to an interactive table.\"\n",
       "            style=\"display:none;\">\n",
       "\n",
       "  <svg xmlns=\"http://www.w3.org/2000/svg\" height=\"24px\" viewBox=\"0 -960 960 960\">\n",
       "    <path d=\"M120-120v-720h720v720H120Zm60-500h600v-160H180v160Zm220 220h160v-160H400v160Zm0 220h160v-160H400v160ZM180-400h160v-160H180v160Zm440 0h160v-160H620v160ZM180-180h160v-160H180v160Zm440 0h160v-160H620v160Z\"/>\n",
       "  </svg>\n",
       "    </button>\n",
       "\n",
       "  <style>\n",
       "    .colab-df-container {\n",
       "      display:flex;\n",
       "      gap: 12px;\n",
       "    }\n",
       "\n",
       "    .colab-df-convert {\n",
       "      background-color: #E8F0FE;\n",
       "      border: none;\n",
       "      border-radius: 50%;\n",
       "      cursor: pointer;\n",
       "      display: none;\n",
       "      fill: #1967D2;\n",
       "      height: 32px;\n",
       "      padding: 0 0 0 0;\n",
       "      width: 32px;\n",
       "    }\n",
       "\n",
       "    .colab-df-convert:hover {\n",
       "      background-color: #E2EBFA;\n",
       "      box-shadow: 0px 1px 2px rgba(60, 64, 67, 0.3), 0px 1px 3px 1px rgba(60, 64, 67, 0.15);\n",
       "      fill: #174EA6;\n",
       "    }\n",
       "\n",
       "    .colab-df-buttons div {\n",
       "      margin-bottom: 4px;\n",
       "    }\n",
       "\n",
       "    [theme=dark] .colab-df-convert {\n",
       "      background-color: #3B4455;\n",
       "      fill: #D2E3FC;\n",
       "    }\n",
       "\n",
       "    [theme=dark] .colab-df-convert:hover {\n",
       "      background-color: #434B5C;\n",
       "      box-shadow: 0px 1px 3px 1px rgba(0, 0, 0, 0.15);\n",
       "      filter: drop-shadow(0px 1px 2px rgba(0, 0, 0, 0.3));\n",
       "      fill: #FFFFFF;\n",
       "    }\n",
       "  </style>\n",
       "\n",
       "    <script>\n",
       "      const buttonEl =\n",
       "        document.querySelector('#df-87a31b04-a8d2-4108-8642-b78f39d5dc04 button.colab-df-convert');\n",
       "      buttonEl.style.display =\n",
       "        google.colab.kernel.accessAllowed ? 'block' : 'none';\n",
       "\n",
       "      async function convertToInteractive(key) {\n",
       "        const element = document.querySelector('#df-87a31b04-a8d2-4108-8642-b78f39d5dc04');\n",
       "        const dataTable =\n",
       "          await google.colab.kernel.invokeFunction('convertToInteractive',\n",
       "                                                    [key], {});\n",
       "        if (!dataTable) return;\n",
       "\n",
       "        const docLinkHtml = 'Like what you see? Visit the ' +\n",
       "          '<a target=\"_blank\" href=https://colab.research.google.com/notebooks/data_table.ipynb>data table notebook</a>'\n",
       "          + ' to learn more about interactive tables.';\n",
       "        element.innerHTML = '';\n",
       "        dataTable['output_type'] = 'display_data';\n",
       "        await google.colab.output.renderOutput(dataTable, element);\n",
       "        const docLink = document.createElement('div');\n",
       "        docLink.innerHTML = docLinkHtml;\n",
       "        element.appendChild(docLink);\n",
       "      }\n",
       "    </script>\n",
       "  </div>\n",
       "\n",
       "\n",
       "<div id=\"df-08dd5546-6fbc-4342-8e5d-07e73bab90f1\">\n",
       "  <button class=\"colab-df-quickchart\" onclick=\"quickchart('df-08dd5546-6fbc-4342-8e5d-07e73bab90f1')\"\n",
       "            title=\"Suggest charts\"\n",
       "            style=\"display:none;\">\n",
       "\n",
       "<svg xmlns=\"http://www.w3.org/2000/svg\" height=\"24px\"viewBox=\"0 0 24 24\"\n",
       "     width=\"24px\">\n",
       "    <g>\n",
       "        <path d=\"M19 3H5c-1.1 0-2 .9-2 2v14c0 1.1.9 2 2 2h14c1.1 0 2-.9 2-2V5c0-1.1-.9-2-2-2zM9 17H7v-7h2v7zm4 0h-2V7h2v10zm4 0h-2v-4h2v4z\"/>\n",
       "    </g>\n",
       "</svg>\n",
       "  </button>\n",
       "\n",
       "<style>\n",
       "  .colab-df-quickchart {\n",
       "      --bg-color: #E8F0FE;\n",
       "      --fill-color: #1967D2;\n",
       "      --hover-bg-color: #E2EBFA;\n",
       "      --hover-fill-color: #174EA6;\n",
       "      --disabled-fill-color: #AAA;\n",
       "      --disabled-bg-color: #DDD;\n",
       "  }\n",
       "\n",
       "  [theme=dark] .colab-df-quickchart {\n",
       "      --bg-color: #3B4455;\n",
       "      --fill-color: #D2E3FC;\n",
       "      --hover-bg-color: #434B5C;\n",
       "      --hover-fill-color: #FFFFFF;\n",
       "      --disabled-bg-color: #3B4455;\n",
       "      --disabled-fill-color: #666;\n",
       "  }\n",
       "\n",
       "  .colab-df-quickchart {\n",
       "    background-color: var(--bg-color);\n",
       "    border: none;\n",
       "    border-radius: 50%;\n",
       "    cursor: pointer;\n",
       "    display: none;\n",
       "    fill: var(--fill-color);\n",
       "    height: 32px;\n",
       "    padding: 0;\n",
       "    width: 32px;\n",
       "  }\n",
       "\n",
       "  .colab-df-quickchart:hover {\n",
       "    background-color: var(--hover-bg-color);\n",
       "    box-shadow: 0 1px 2px rgba(60, 64, 67, 0.3), 0 1px 3px 1px rgba(60, 64, 67, 0.15);\n",
       "    fill: var(--button-hover-fill-color);\n",
       "  }\n",
       "\n",
       "  .colab-df-quickchart-complete:disabled,\n",
       "  .colab-df-quickchart-complete:disabled:hover {\n",
       "    background-color: var(--disabled-bg-color);\n",
       "    fill: var(--disabled-fill-color);\n",
       "    box-shadow: none;\n",
       "  }\n",
       "\n",
       "  .colab-df-spinner {\n",
       "    border: 2px solid var(--fill-color);\n",
       "    border-color: transparent;\n",
       "    border-bottom-color: var(--fill-color);\n",
       "    animation:\n",
       "      spin 1s steps(1) infinite;\n",
       "  }\n",
       "\n",
       "  @keyframes spin {\n",
       "    0% {\n",
       "      border-color: transparent;\n",
       "      border-bottom-color: var(--fill-color);\n",
       "      border-left-color: var(--fill-color);\n",
       "    }\n",
       "    20% {\n",
       "      border-color: transparent;\n",
       "      border-left-color: var(--fill-color);\n",
       "      border-top-color: var(--fill-color);\n",
       "    }\n",
       "    30% {\n",
       "      border-color: transparent;\n",
       "      border-left-color: var(--fill-color);\n",
       "      border-top-color: var(--fill-color);\n",
       "      border-right-color: var(--fill-color);\n",
       "    }\n",
       "    40% {\n",
       "      border-color: transparent;\n",
       "      border-right-color: var(--fill-color);\n",
       "      border-top-color: var(--fill-color);\n",
       "    }\n",
       "    60% {\n",
       "      border-color: transparent;\n",
       "      border-right-color: var(--fill-color);\n",
       "    }\n",
       "    80% {\n",
       "      border-color: transparent;\n",
       "      border-right-color: var(--fill-color);\n",
       "      border-bottom-color: var(--fill-color);\n",
       "    }\n",
       "    90% {\n",
       "      border-color: transparent;\n",
       "      border-bottom-color: var(--fill-color);\n",
       "    }\n",
       "  }\n",
       "</style>\n",
       "\n",
       "  <script>\n",
       "    async function quickchart(key) {\n",
       "      const quickchartButtonEl =\n",
       "        document.querySelector('#' + key + ' button');\n",
       "      quickchartButtonEl.disabled = true;  // To prevent multiple clicks.\n",
       "      quickchartButtonEl.classList.add('colab-df-spinner');\n",
       "      try {\n",
       "        const charts = await google.colab.kernel.invokeFunction(\n",
       "            'suggestCharts', [key], {});\n",
       "      } catch (error) {\n",
       "        console.error('Error during call to suggestCharts:', error);\n",
       "      }\n",
       "      quickchartButtonEl.classList.remove('colab-df-spinner');\n",
       "      quickchartButtonEl.classList.add('colab-df-quickchart-complete');\n",
       "    }\n",
       "    (() => {\n",
       "      let quickchartButtonEl =\n",
       "        document.querySelector('#df-08dd5546-6fbc-4342-8e5d-07e73bab90f1 button');\n",
       "      quickchartButtonEl.style.display =\n",
       "        google.colab.kernel.accessAllowed ? 'block' : 'none';\n",
       "    })();\n",
       "  </script>\n",
       "</div>\n",
       "\n",
       "    </div>\n",
       "  </div>\n"
      ],
      "text/plain": [
       "                                                 answer  \\\n",
       "7093  SELECT rating___percentage_ FROM table_name_73...   \n",
       "1405  SELECT us_viewers__millions_ FROM table_222652...   \n",
       "\n",
       "                                               question  \\\n",
       "7093  Name the rating % for channel of anhui satelli...   \n",
       "1405  How many million U.s. Viewers watched episode ...   \n",
       "\n",
       "                                                context  \\\n",
       "7093  CREATE TABLE table_name_73 (rating___percentag...   \n",
       "1405  CREATE TABLE table_22265225_1 (us_viewers__mil...   \n",
       "\n",
       "                                         systemInstruct  \\\n",
       "7093  You are a Database Query Assistant. Your role ...   \n",
       "1405  You are a Database Query Assistant. Your role ...   \n",
       "\n",
       "                                         input_question  \\\n",
       "7093  \\n\\n**Below the question with context that you...   \n",
       "1405  \\n\\n**Below the question with context that you...   \n",
       "\n",
       "                                       predicted_answer  \n",
       "7093  SELECT rating___percentage_ FROM table_name_73...  \n",
       "1405  SELECT us_viewers__millions_ FROM table_222652...  "
      ]
     },
     "execution_count": 118,
     "metadata": {},
     "output_type": "execute_result"
    }
   ],
   "source": [
    "from tqdm import tqdm\n",
    "tqdm.pandas()\n",
    "\n",
    "test_df[\"predicted_answer\"] = test_df[\"input_question\"].progress_apply(lambda x: get_predictions(x, base_model))\n",
    "test_df.head(2)"
   ]
  },
  {
   "cell_type": "markdown",
   "metadata": {},
   "source": [
    "### 11. 评估指标函数\n",
    "**说明**: 实现评估模型性能的指标计算函数,包括F1分数和精确匹配分数。这些指标用于衡量模型生成的SQL查询的质量。\n",
    "\n",
    "精确匹配分数（EM Score）：\n",
    "完全相同，则得分为1，否则为0。最终的EM分数是所有测试样本的平均值，直接反映了模型生成完全正确查询的比例。\n",
    "\n",
    "F1分数（F1 Score）：\n",
    "将结果拆分成tokens，然后通过计算预测查询和真实查询中共同出现的词元数量，分别计算精确率（预测中正确词元的占比）和召回率（真实查询中被正确预测的词元占比），最后取这两个指标的调和平均数。即使查询不完全匹配，也能得到一个介于0到1之间的分数。"
   ]
  },
  {
   "cell_type": "code",
   "execution_count": 119,
   "metadata": {
    "executionInfo": {
     "elapsed": 2,
     "status": "ok",
     "timestamp": 1746773870296,
     "user": {
      "displayName": "",
      "userId": ""
     },
     "user_tz": -480
    },
    "id": "6AI57wAgIB6A"
   },
   "outputs": [],
   "source": [
    "def f1_score_squad(prediction, ground_truth):\n",
    "    prediction_tokens = prediction.split()\n",
    "    ground_truth_tokens = ground_truth.split()\n",
    "    common = Counter(prediction_tokens) & Counter(ground_truth_tokens)\n",
    "    num_same = sum(common.values())\n",
    "    if num_same == 0:\n",
    "        return 0\n",
    "    precision = 1.0 * num_same / len(prediction_tokens)\n",
    "    recall = 1.0 * num_same / len(ground_truth_tokens)\n",
    "    f1 = (2 * precision * recall) / (precision + recall)\n",
    "    return f1\n",
    "\n",
    "\n",
    "def exact_match_score(prediction, ground_truth):\n",
    "    return prediction == ground_truth\n",
    "\n",
    "\n",
    "def calculate_em_and_f1(y_true, y_pred):\n",
    "    \"\"\"Calculates EM and F1 scores for DataFrame columns.\"\"\"\n",
    "\n",
    "    # Ensure inputs are Series\n",
    "    if not isinstance(y_true, pd.Series):\n",
    "        y_true = pd.Series(y_true)\n",
    "    if not isinstance(y_pred, pd.Series):\n",
    "        y_pred = pd.Series(y_pred)\n",
    "\n",
    "    em = np.mean(y_true.combine(y_pred, exact_match_score))\n",
    "    f1 = np.mean(y_true.combine(y_pred, f1_score_squad))\n",
    "\n",
    "    return em, f1"
   ]
  },
  {
   "cell_type": "markdown",
   "metadata": {},
   "source": [
    "### 12.原版模型结果分数"
   ]
  },
  {
   "cell_type": "code",
   "execution_count": 120,
   "metadata": {
    "colab": {
     "base_uri": "https://localhost:8080/"
    },
    "executionInfo": {
     "elapsed": 4,
     "status": "ok",
     "timestamp": 1746773874335,
     "user": {
      "displayName": "",
      "userId": ""
     },
     "user_tz": -480
    },
    "id": "iuHUevIX_fMn",
    "outputId": "52511815-6820-4ef6-8909-841a25efd7d3"
   },
   "outputs": [
    {
     "name": "stdout",
     "output_type": "stream",
     "text": [
      "EM score: 0.002554278416347382\n",
      "F1 score: 0.8067898006559168\n"
     ]
    }
   ],
   "source": [
    "em, f1 = calculate_em_and_f1(test_df[\"answer\"], test_df[\"predicted_answer\"])\n",
    "print(f\"EM score: {em}\")\n",
    "print(f\"F1 score: {f1}\")"
   ]
  },
  {
   "cell_type": "markdown",
   "metadata": {},
   "source": [
    "### 13.处理训练数据\n",
    "**说明**: 训练数据转化成jsonl文件并上传到GCS桶中，以方便后续微调任务，jsonl的格式是适合微调的数据格式"
   ]
  },
  {
   "cell_type": "code",
   "execution_count": 109,
   "metadata": {
    "executionInfo": {
     "elapsed": 529,
     "status": "ok",
     "timestamp": 1746773474146,
     "user": {
      "displayName": "",
      "userId": ""
     },
     "user_tz": -480
    },
    "id": "4DqrQp4cLqRy"
   },
   "outputs": [],
   "source": [
    "train_df[\"input_question\"] = (\n",
    "    \"\\n\\n**Below the question with context that you need to answer**\"\n",
    "    + \"\\nContext: \"\n",
    "    + train_df[\"context\"]\n",
    "    + \"\\nQuestion: \"\n",
    "    + train_df[\"question\"]\n",
    ")\n",
    "valid_df[\"input_question\"] = (\n",
    "    \"\\n\\n**Below the question with context that you need to answer**\"\n",
    "    + \"\\nContext: \"\n",
    "    + valid_df[\"context\"]\n",
    "    + \"\\nQuestion: \"\n",
    "    + valid_df[\"question\"]\n",
    ")"
   ]
  },
  {
   "cell_type": "code",
   "execution_count": 110,
   "metadata": {
    "colab": {
     "base_uri": "https://localhost:8080/",
     "height": 112
    },
    "executionInfo": {
     "elapsed": 4,
     "status": "ok",
     "timestamp": 1746773475667,
     "user": {
      "displayName": "",
      "userId": ""
     },
     "user_tz": -480
    },
    "id": "DcnD1OiezZiT",
    "outputId": "92acfb19-7d22-47fa-b5e4-e863e363c4b8"
   },
   "outputs": [
    {
     "data": {
      "application/vnd.google.colaboratory.intrinsic+json": {
       "summary": "{\n  \"name\": \"train_df\",\n  \"rows\": 6286,\n  \"fields\": [\n    {\n      \"column\": \"answer\",\n      \"properties\": {\n        \"dtype\": \"string\",\n        \"num_unique_values\": 6286,\n        \"samples\": [\n          \"SELECT rider FROM table_name_35 WHERE laps = \\\"28\\\" AND manufacturer = \\\"honda\\\" AND grid = \\\"1\\\"\",\n          \"SELECT MIN(population) FROM table_22815568_1 WHERE market_income_per_capita = \\\"$24,383\\\"\",\n          \"SELECT SUM(total) FROM table_name_90 WHERE year_s__won = \\\"1979\\\"\"\n        ],\n        \"semantic_type\": \"\",\n        \"description\": \"\"\n      }\n    },\n    {\n      \"column\": \"question\",\n      \"properties\": {\n        \"dtype\": \"string\",\n        \"num_unique_values\": 6283,\n        \"samples\": [\n          \"Name the number of population for  \\u0432\\u0440\\u0431\\u0430\\u0441\",\n          \"Before the Year 1972, what RIAA Sales Certification was awarded to the song that had a Billboard 200 Peak less than 18?\",\n          \"What is year Built of the Moulin de Momalle Mill?\"\n        ],\n        \"semantic_type\": \"\",\n        \"description\": \"\"\n      }\n    },\n    {\n      \"column\": \"context\",\n      \"properties\": {\n        \"dtype\": \"string\",\n        \"num_unique_values\": 6237,\n        \"samples\": [\n          \"CREATE TABLE table_name_57 (attendance VARCHAR, opponent_number VARCHAR)\",\n          \"CREATE TABLE table_name_98 (date VARCHAR, score VARCHAR, loss VARCHAR)\",\n          \"CREATE TABLE table_name_98 (surface VARCHAR, date VARCHAR)\"\n        ],\n        \"semantic_type\": \"\",\n        \"description\": \"\"\n      }\n    },\n    {\n      \"column\": \"input_question\",\n      \"properties\": {\n        \"dtype\": \"string\",\n        \"num_unique_values\": 6286,\n        \"samples\": [\n          \"\\n\\n**Below the question with context that you need to answer**\\nContext: CREATE TABLE table_name_35 (rider VARCHAR, grid VARCHAR, laps VARCHAR, manufacturer VARCHAR)\\nQuestion: Which rider's manufacturer is Honda and has 28 laps and a grid of 1?\",\n          \"\\n\\n**Below the question with context that you need to answer**\\nContext: CREATE TABLE table_22815568_1 (population INTEGER, market_income_per_capita VARCHAR)\\nQuestion: What is the lowest population in a county with market income per capita of $24,383?\",\n          \"\\n\\n**Below the question with context that you need to answer**\\nContext: CREATE TABLE table_name_90 (total INTEGER, year_s__won VARCHAR)\\nQuestion: What is the sum of the total of the player who won in 1979?\"\n        ],\n        \"semantic_type\": \"\",\n        \"description\": \"\"\n      }\n    }\n  ]\n}",
       "type": "dataframe",
       "variable_name": "train_df"
      },
      "text/html": [
       "\n",
       "  <div id=\"df-ff776bc6-1280-4c22-8c6c-2a4b0e63f550\" class=\"colab-df-container\">\n",
       "    <div>\n",
       "<style scoped>\n",
       "    .dataframe tbody tr th:only-of-type {\n",
       "        vertical-align: middle;\n",
       "    }\n",
       "\n",
       "    .dataframe tbody tr th {\n",
       "        vertical-align: top;\n",
       "    }\n",
       "\n",
       "    .dataframe thead th {\n",
       "        text-align: right;\n",
       "    }\n",
       "</style>\n",
       "<table border=\"1\" class=\"dataframe\">\n",
       "  <thead>\n",
       "    <tr style=\"text-align: right;\">\n",
       "      <th></th>\n",
       "      <th>answer</th>\n",
       "      <th>question</th>\n",
       "      <th>context</th>\n",
       "      <th>input_question</th>\n",
       "    </tr>\n",
       "  </thead>\n",
       "  <tbody>\n",
       "    <tr>\n",
       "      <th>22529</th>\n",
       "      <td>SELECT release_date FROM table_name_92 WHERE l...</td>\n",
       "      <td>What is the release date of the 6 mb L3 cache ...</td>\n",
       "      <td>CREATE TABLE table_name_92 (release_date VARCH...</td>\n",
       "      <td>\\n\\n**Below the question with context that you...</td>\n",
       "    </tr>\n",
       "    <tr>\n",
       "      <th>21363</th>\n",
       "      <td>SELECT T2.guest_first_name, T1.booking_start_d...</td>\n",
       "      <td>Show the guest first names, start dates, and e...</td>\n",
       "      <td>CREATE TABLE Apartment_Bookings (booking_start...</td>\n",
       "      <td>\\n\\n**Below the question with context that you...</td>\n",
       "    </tr>\n",
       "  </tbody>\n",
       "</table>\n",
       "</div>\n",
       "    <div class=\"colab-df-buttons\">\n",
       "\n",
       "  <div class=\"colab-df-container\">\n",
       "    <button class=\"colab-df-convert\" onclick=\"convertToInteractive('df-ff776bc6-1280-4c22-8c6c-2a4b0e63f550')\"\n",
       "            title=\"Convert this dataframe to an interactive table.\"\n",
       "            style=\"display:none;\">\n",
       "\n",
       "  <svg xmlns=\"http://www.w3.org/2000/svg\" height=\"24px\" viewBox=\"0 -960 960 960\">\n",
       "    <path d=\"M120-120v-720h720v720H120Zm60-500h600v-160H180v160Zm220 220h160v-160H400v160Zm0 220h160v-160H400v160ZM180-400h160v-160H180v160Zm440 0h160v-160H620v160ZM180-180h160v-160H180v160Zm440 0h160v-160H620v160Z\"/>\n",
       "  </svg>\n",
       "    </button>\n",
       "\n",
       "  <style>\n",
       "    .colab-df-container {\n",
       "      display:flex;\n",
       "      gap: 12px;\n",
       "    }\n",
       "\n",
       "    .colab-df-convert {\n",
       "      background-color: #E8F0FE;\n",
       "      border: none;\n",
       "      border-radius: 50%;\n",
       "      cursor: pointer;\n",
       "      display: none;\n",
       "      fill: #1967D2;\n",
       "      height: 32px;\n",
       "      padding: 0 0 0 0;\n",
       "      width: 32px;\n",
       "    }\n",
       "\n",
       "    .colab-df-convert:hover {\n",
       "      background-color: #E2EBFA;\n",
       "      box-shadow: 0px 1px 2px rgba(60, 64, 67, 0.3), 0px 1px 3px 1px rgba(60, 64, 67, 0.15);\n",
       "      fill: #174EA6;\n",
       "    }\n",
       "\n",
       "    .colab-df-buttons div {\n",
       "      margin-bottom: 4px;\n",
       "    }\n",
       "\n",
       "    [theme=dark] .colab-df-convert {\n",
       "      background-color: #3B4455;\n",
       "      fill: #D2E3FC;\n",
       "    }\n",
       "\n",
       "    [theme=dark] .colab-df-convert:hover {\n",
       "      background-color: #434B5C;\n",
       "      box-shadow: 0px 1px 3px 1px rgba(0, 0, 0, 0.15);\n",
       "      filter: drop-shadow(0px 1px 2px rgba(0, 0, 0, 0.3));\n",
       "      fill: #FFFFFF;\n",
       "    }\n",
       "  </style>\n",
       "\n",
       "    <script>\n",
       "      const buttonEl =\n",
       "        document.querySelector('#df-ff776bc6-1280-4c22-8c6c-2a4b0e63f550 button.colab-df-convert');\n",
       "      buttonEl.style.display =\n",
       "        google.colab.kernel.accessAllowed ? 'block' : 'none';\n",
       "\n",
       "      async function convertToInteractive(key) {\n",
       "        const element = document.querySelector('#df-ff776bc6-1280-4c22-8c6c-2a4b0e63f550');\n",
       "        const dataTable =\n",
       "          await google.colab.kernel.invokeFunction('convertToInteractive',\n",
       "                                                    [key], {});\n",
       "        if (!dataTable) return;\n",
       "\n",
       "        const docLinkHtml = 'Like what you see? Visit the ' +\n",
       "          '<a target=\"_blank\" href=https://colab.research.google.com/notebooks/data_table.ipynb>data table notebook</a>'\n",
       "          + ' to learn more about interactive tables.';\n",
       "        element.innerHTML = '';\n",
       "        dataTable['output_type'] = 'display_data';\n",
       "        await google.colab.output.renderOutput(dataTable, element);\n",
       "        const docLink = document.createElement('div');\n",
       "        docLink.innerHTML = docLinkHtml;\n",
       "        element.appendChild(docLink);\n",
       "      }\n",
       "    </script>\n",
       "  </div>\n",
       "\n",
       "\n",
       "<div id=\"df-ebb48348-8f7d-4128-8ec3-82c823ca6796\">\n",
       "  <button class=\"colab-df-quickchart\" onclick=\"quickchart('df-ebb48348-8f7d-4128-8ec3-82c823ca6796')\"\n",
       "            title=\"Suggest charts\"\n",
       "            style=\"display:none;\">\n",
       "\n",
       "<svg xmlns=\"http://www.w3.org/2000/svg\" height=\"24px\"viewBox=\"0 0 24 24\"\n",
       "     width=\"24px\">\n",
       "    <g>\n",
       "        <path d=\"M19 3H5c-1.1 0-2 .9-2 2v14c0 1.1.9 2 2 2h14c1.1 0 2-.9 2-2V5c0-1.1-.9-2-2-2zM9 17H7v-7h2v7zm4 0h-2V7h2v10zm4 0h-2v-4h2v4z\"/>\n",
       "    </g>\n",
       "</svg>\n",
       "  </button>\n",
       "\n",
       "<style>\n",
       "  .colab-df-quickchart {\n",
       "      --bg-color: #E8F0FE;\n",
       "      --fill-color: #1967D2;\n",
       "      --hover-bg-color: #E2EBFA;\n",
       "      --hover-fill-color: #174EA6;\n",
       "      --disabled-fill-color: #AAA;\n",
       "      --disabled-bg-color: #DDD;\n",
       "  }\n",
       "\n",
       "  [theme=dark] .colab-df-quickchart {\n",
       "      --bg-color: #3B4455;\n",
       "      --fill-color: #D2E3FC;\n",
       "      --hover-bg-color: #434B5C;\n",
       "      --hover-fill-color: #FFFFFF;\n",
       "      --disabled-bg-color: #3B4455;\n",
       "      --disabled-fill-color: #666;\n",
       "  }\n",
       "\n",
       "  .colab-df-quickchart {\n",
       "    background-color: var(--bg-color);\n",
       "    border: none;\n",
       "    border-radius: 50%;\n",
       "    cursor: pointer;\n",
       "    display: none;\n",
       "    fill: var(--fill-color);\n",
       "    height: 32px;\n",
       "    padding: 0;\n",
       "    width: 32px;\n",
       "  }\n",
       "\n",
       "  .colab-df-quickchart:hover {\n",
       "    background-color: var(--hover-bg-color);\n",
       "    box-shadow: 0 1px 2px rgba(60, 64, 67, 0.3), 0 1px 3px 1px rgba(60, 64, 67, 0.15);\n",
       "    fill: var(--button-hover-fill-color);\n",
       "  }\n",
       "\n",
       "  .colab-df-quickchart-complete:disabled,\n",
       "  .colab-df-quickchart-complete:disabled:hover {\n",
       "    background-color: var(--disabled-bg-color);\n",
       "    fill: var(--disabled-fill-color);\n",
       "    box-shadow: none;\n",
       "  }\n",
       "\n",
       "  .colab-df-spinner {\n",
       "    border: 2px solid var(--fill-color);\n",
       "    border-color: transparent;\n",
       "    border-bottom-color: var(--fill-color);\n",
       "    animation:\n",
       "      spin 1s steps(1) infinite;\n",
       "  }\n",
       "\n",
       "  @keyframes spin {\n",
       "    0% {\n",
       "      border-color: transparent;\n",
       "      border-bottom-color: var(--fill-color);\n",
       "      border-left-color: var(--fill-color);\n",
       "    }\n",
       "    20% {\n",
       "      border-color: transparent;\n",
       "      border-left-color: var(--fill-color);\n",
       "      border-top-color: var(--fill-color);\n",
       "    }\n",
       "    30% {\n",
       "      border-color: transparent;\n",
       "      border-left-color: var(--fill-color);\n",
       "      border-top-color: var(--fill-color);\n",
       "      border-right-color: var(--fill-color);\n",
       "    }\n",
       "    40% {\n",
       "      border-color: transparent;\n",
       "      border-right-color: var(--fill-color);\n",
       "      border-top-color: var(--fill-color);\n",
       "    }\n",
       "    60% {\n",
       "      border-color: transparent;\n",
       "      border-right-color: var(--fill-color);\n",
       "    }\n",
       "    80% {\n",
       "      border-color: transparent;\n",
       "      border-right-color: var(--fill-color);\n",
       "      border-bottom-color: var(--fill-color);\n",
       "    }\n",
       "    90% {\n",
       "      border-color: transparent;\n",
       "      border-bottom-color: var(--fill-color);\n",
       "    }\n",
       "  }\n",
       "</style>\n",
       "\n",
       "  <script>\n",
       "    async function quickchart(key) {\n",
       "      const quickchartButtonEl =\n",
       "        document.querySelector('#' + key + ' button');\n",
       "      quickchartButtonEl.disabled = true;  // To prevent multiple clicks.\n",
       "      quickchartButtonEl.classList.add('colab-df-spinner');\n",
       "      try {\n",
       "        const charts = await google.colab.kernel.invokeFunction(\n",
       "            'suggestCharts', [key], {});\n",
       "      } catch (error) {\n",
       "        console.error('Error during call to suggestCharts:', error);\n",
       "      }\n",
       "      quickchartButtonEl.classList.remove('colab-df-spinner');\n",
       "      quickchartButtonEl.classList.add('colab-df-quickchart-complete');\n",
       "    }\n",
       "    (() => {\n",
       "      let quickchartButtonEl =\n",
       "        document.querySelector('#df-ebb48348-8f7d-4128-8ec3-82c823ca6796 button');\n",
       "      quickchartButtonEl.style.display =\n",
       "        google.colab.kernel.accessAllowed ? 'block' : 'none';\n",
       "    })();\n",
       "  </script>\n",
       "</div>\n",
       "\n",
       "    </div>\n",
       "  </div>\n"
      ],
      "text/plain": [
       "                                                  answer  \\\n",
       "22529  SELECT release_date FROM table_name_92 WHERE l...   \n",
       "21363  SELECT T2.guest_first_name, T1.booking_start_d...   \n",
       "\n",
       "                                                question  \\\n",
       "22529  What is the release date of the 6 mb L3 cache ...   \n",
       "21363  Show the guest first names, start dates, and e...   \n",
       "\n",
       "                                                 context  \\\n",
       "22529  CREATE TABLE table_name_92 (release_date VARCH...   \n",
       "21363  CREATE TABLE Apartment_Bookings (booking_start...   \n",
       "\n",
       "                                          input_question  \n",
       "22529  \\n\\n**Below the question with context that you...  \n",
       "21363  \\n\\n**Below the question with context that you...  "
      ]
     },
     "execution_count": 110,
     "metadata": {},
     "output_type": "execute_result"
    }
   ],
   "source": [
    "train_df.head(2)"
   ]
  },
  {
   "cell_type": "code",
   "execution_count": 113,
   "metadata": {
    "colab": {
     "base_uri": "https://localhost:8080/"
    },
    "executionInfo": {
     "elapsed": 570,
     "status": "ok",
     "timestamp": 1746773513070,
     "user": {
      "displayName": "",
      "userId": ""
     },
     "user_tz": -480
    },
    "id": "Pmzyz1migvHN",
    "outputId": "cdc68ec3-5ec1-45af-94a2-e7dd8bc63c49"
   },
   "outputs": [
    {
     "name": "stdout",
     "output_type": "stream",
     "text": [
      "JSONL data written to train.jsonl\n",
      "JSONL data written to valid.jsonl\n"
     ]
    }
   ],
   "source": [
    "def df_to_jsonl(df, output_file):\n",
    "    with open(output_file, \"w\") as f:\n",
    "        for row in df.itertuples(index=False):\n",
    "            jsonl_obj = {\n",
    "                \"systemInstruction\": {\"parts\": [{\"text\": f\"{systemInstruct}\"}]},\n",
    "                \"contents\": [\n",
    "                    {\n",
    "                        \"role\": \"user\",\n",
    "                        \"parts\": [{\"text\": f\"{row.input_question}\"}],\n",
    "                    },\n",
    "                    {\"role\": \"model\", \"parts\": [{\"text\": row.answer}]},\n",
    "                ],\n",
    "            }\n",
    "            f.write(json.dumps(jsonl_obj) + \"\\n\")\n",
    "\n",
    "\n",
    "# Process the DataFrames\n",
    "df_to_jsonl(train_df, \"train.jsonl\")\n",
    "df_to_jsonl(valid_df, \"valid.jsonl\")\n",
    "\n",
    "print(f\"JSONL data written to train.jsonl\")\n",
    "print(f\"JSONL data written to valid.jsonl\")"
   ]
  },
  {
   "cell_type": "markdown",
   "metadata": {
    "id": "5OQv-ZMpJDhi"
   },
   "source": [
    "Next you will copy the files into your Google Cloud bucket"
   ]
  },
  {
   "cell_type": "code",
   "execution_count": 115,
   "metadata": {
    "colab": {
     "base_uri": "https://localhost:8080/"
    },
    "executionInfo": {
     "elapsed": 3710,
     "status": "ok",
     "timestamp": 1746773538335,
     "user": {
      "displayName": "",
      "userId": ""
     },
     "user_tz": -480
    },
    "id": "O5k1jYJ10IeW",
    "outputId": "ed98b9bc-3d22-42b8-c6f6-a12ec3744b69"
   },
   "outputs": [
    {
     "name": "stdout",
     "output_type": "stream",
     "text": [
      "Copying file://./train.jsonl [Content-Type=application/octet-stream]...\n",
      "/ [1 files][  8.9 MiB/  8.9 MiB]                                                \n",
      "Operation completed over 1 objects/8.9 MiB.                                      \n",
      "Copying file://./valid.jsonl [Content-Type=application/octet-stream]...\n",
      "/ [1 files][  1.1 MiB/  1.1 MiB]                                                \n",
      "Operation completed over 1 objects/1.1 MiB.                                      \n"
     ]
    }
   ],
   "source": [
    "!gsutil cp ./train.jsonl {BUCKET_URI}\n",
    "!gsutil cp ./valid.jsonl {BUCKET_URI}"
   ]
  },
  {
   "cell_type": "markdown",
   "metadata": {
    "id": "UAHMYgFJJHjm"
   },
   "source": [
    "### 启动微调工作\n",
    "\n",
    "- `base_model`: 想要微调的模型\n",
    " - `train_dataset`: 训练数据集路径\n",
    "\n",
    "  *Optional parameters*\n",
    " - `epochs`: 训练轮数.\n",
    " - `learning_rate_multiplier`: 学习率倍率.\n",
    " - `adapter_size` : 秩."
   ]
  },
  {
   "cell_type": "code",
   "execution_count": 116,
   "metadata": {
    "executionInfo": {
     "elapsed": 543,
     "status": "ok",
     "timestamp": 1746773566887,
     "user": {
      "displayName": "",
      "userId": ""
     },
     "user_tz": -480
    },
    "id": "gdcy4umfpGZE"
   },
   "outputs": [],
   "source": [
    "train_dataset = f\"\"\"{BUCKET_URI}/train.jsonl\"\"\"\n",
    "validation_dataset = f\"\"\"{BUCKET_URI}/valid.jsonl\"\"\"\n",
    "\n",
    "training_dataset = {\n",
    "    \"gcs_uri\": train_dataset,\n",
    "}\n",
    "\n",
    "validation_dataset = types.TuningValidationDataset(gcs_uri=validation_dataset)"
   ]
  },
  {
   "cell_type": "code",
   "execution_count": 117,
   "metadata": {
    "colab": {
     "base_uri": "https://localhost:8080/",
     "height": 178
    },
    "executionInfo": {
     "elapsed": 1165,
     "status": "ok",
     "timestamp": 1746773574759,
     "user": {
      "displayName": "",
      "userId": ""
     },
     "user_tz": -480
    },
    "id": "NkboVUkoqWSp",
    "outputId": "efb95f28-404a-44b9-ac63-dc5d2e7a1130"
   },
   "outputs": [
    {
     "name": "stderr",
     "output_type": "stream",
     "text": [
      "<ipython-input-117-8ba206f36781>:1: ExperimentalWarning: The SDK's tuning implementation is experimental, and may change in future versions.\n",
      "  sft_tuning_job = client.tunings.tune(\n"
     ]
    },
    {
     "data": {
      "text/html": [
       "\n",
       "        \n",
       "    <link rel=\"stylesheet\" href=\"https://fonts.googleapis.com/icon?family=Material+Icons\">\n",
       "    <style>\n",
       "      .view-vertex-resource,\n",
       "      .view-vertex-resource:hover,\n",
       "      .view-vertex-resource:visited {\n",
       "        position: relative;\n",
       "        display: inline-flex;\n",
       "        flex-direction: row;\n",
       "        height: 32px;\n",
       "        padding: 0 12px;\n",
       "          margin: 4px 18px;\n",
       "        gap: 4px;\n",
       "        border-radius: 4px;\n",
       "\n",
       "        align-items: center;\n",
       "        justify-content: center;\n",
       "        background-color: rgb(255, 255, 255);\n",
       "        color: rgb(51, 103, 214);\n",
       "\n",
       "        font-family: Roboto,\"Helvetica Neue\",sans-serif;\n",
       "        font-size: 13px;\n",
       "        font-weight: 500;\n",
       "        text-transform: uppercase;\n",
       "        text-decoration: none !important;\n",
       "\n",
       "        transition: box-shadow 280ms cubic-bezier(0.4, 0, 0.2, 1) 0s;\n",
       "        box-shadow: 0px 3px 1px -2px rgba(0,0,0,0.2), 0px 2px 2px 0px rgba(0,0,0,0.14), 0px 1px 5px 0px rgba(0,0,0,0.12);\n",
       "      }\n",
       "      .view-vertex-resource:active {\n",
       "        box-shadow: 0px 5px 5px -3px rgba(0,0,0,0.2),0px 8px 10px 1px rgba(0,0,0,0.14),0px 3px 14px 2px rgba(0,0,0,0.12);\n",
       "      }\n",
       "      .view-vertex-resource:active .view-vertex-ripple::before {\n",
       "        position: absolute;\n",
       "        top: 0;\n",
       "        bottom: 0;\n",
       "        left: 0;\n",
       "        right: 0;\n",
       "        border-radius: 4px;\n",
       "        pointer-events: none;\n",
       "\n",
       "        content: '';\n",
       "        background-color: rgb(51, 103, 214);\n",
       "        opacity: 0.12;\n",
       "      }\n",
       "      .view-vertex-icon {\n",
       "        font-size: 18px;\n",
       "      }\n",
       "    </style>\n",
       "  \n",
       "        <a class=\"view-vertex-resource\" id=\"view-vertex-resource-aaf21c92-334b-4749-adbd-c117405bfcd7\" href=\"#view-view-vertex-resource-aaf21c92-334b-4749-adbd-c117405bfcd7\">\n",
       "          <span class=\"material-icons view-vertex-icon\">tune</span>\n",
       "          <span>View Tuning Job</span>\n",
       "        </a>\n",
       "        \n",
       "        <script>\n",
       "          (function () {\n",
       "            const link = document.getElementById('view-vertex-resource-aaf21c92-334b-4749-adbd-c117405bfcd7');\n",
       "            link.addEventListener('click', (e) => {\n",
       "              if (window.google?.colab?.openUrl) {\n",
       "                window.google.colab.openUrl('https://console.cloud.google.com/vertex-ai/generative/language/locations/us-central1/tuning/tuningJob/5441087908872192?project=746866758104');\n",
       "              } else {\n",
       "                window.open('https://console.cloud.google.com/vertex-ai/generative/language/locations/us-central1/tuning/tuningJob/5441087908872192?project=746866758104', '_blank');\n",
       "              }\n",
       "              e.stopPropagation();\n",
       "              e.preventDefault();\n",
       "            });\n",
       "          })();\n",
       "        </script>\n",
       "    "
      ],
      "text/plain": [
       "<IPython.core.display.HTML object>"
      ]
     },
     "metadata": {},
     "output_type": "display_data"
    },
    {
     "data": {
      "text/plain": [
       "TuningJob(name='projects/746866758104/locations/us-central1/tuningJobs/5441087908872192', state=<JobState.JOB_STATE_PENDING: 'JOB_STATE_PENDING'>, create_time=datetime.datetime(2025, 5, 9, 6, 52, 53, 526339, tzinfo=TzInfo(UTC)), start_time=None, end_time=None, update_time=datetime.datetime(2025, 5, 9, 6, 52, 53, 526339, tzinfo=TzInfo(UTC)), error=None, description=None, base_model='gemini-2.0-flash-lite-001', tuned_model=None, supervised_tuning_spec=SupervisedTuningSpec(hyper_parameters=SupervisedHyperParameters(adapter_size=<AdapterSize.ADAPTER_SIZE_EIGHT: 'ADAPTER_SIZE_EIGHT'>, epoch_count=1, learning_rate_multiplier=None), training_dataset_uri='gs://sql-create-context/train.jsonl', validation_dataset_uri=None), tuning_data_stats=None, encryption_spec=None, partner_model_tuning_spec=None, distillation_spec=None, experiment=None, labels=None, pipeline_job=None, tuned_model_display_name='sql-Tuned')"
      ]
     },
     "execution_count": 117,
     "metadata": {},
     "output_type": "execute_result"
    }
   ],
   "source": [
    "sft_tuning_job = client.tunings.tune(\n",
    "    base_model=base_model,\n",
    "    training_dataset=training_dataset,\n",
    "    config=types.CreateTuningJobConfig(\n",
    "        adapter_size=\"ADAPTER_SIZE_EIGHT\",\n",
    "        epoch_count=1,  # set to one to keep time and cost low\n",
    "        tuned_model_display_name=\"sql-Tuned\",\n",
    "    ),\n",
    ")\n",
    "sft_tuning_job"
   ]
  },
  {
   "cell_type": "code",
   "execution_count": 124,
   "metadata": {
    "colab": {
     "base_uri": "https://localhost:8080/",
     "height": 34
    },
    "executionInfo": {
     "elapsed": 546,
     "status": "ok",
     "timestamp": 1746774610501,
     "user": {
      "displayName": "",
      "userId": ""
     },
     "user_tz": -480
    },
    "id": "WECSLyPRth6M",
    "outputId": "d4c1362e-ecc5-4489-fe50-b582b1341288"
   },
   "outputs": [
    {
     "data": {
      "application/vnd.google.colaboratory.intrinsic+json": {
       "type": "string"
      },
      "text/plain": [
       "<JobState.JOB_STATE_PENDING: 'JOB_STATE_PENDING'>"
      ]
     },
     "execution_count": 124,
     "metadata": {},
     "output_type": "execute_result"
    }
   ],
   "source": [
    "sft_tuning_job.state"
   ]
  },
  {
   "cell_type": "code",
   "execution_count": 138,
   "metadata": {
    "colab": {
     "base_uri": "https://localhost:8080/"
    },
    "executionInfo": {
     "elapsed": 498,
     "status": "ok",
     "timestamp": 1746774671991,
     "user": {
      "displayName": "",
      "userId": ""
     },
     "user_tz": -480
    },
    "id": "_iwz4lhUDC_f",
    "outputId": "bff4d04e-4186-49ba-97c9-ea5edb48161e"
   },
   "outputs": [
    {
     "data": {
      "text/plain": [
       "TuningJob(name='projects/746866758104/locations/us-central1/tuningJobs/5441087908872192', state=<JobState.JOB_STATE_SUCCEEDED: 'JOB_STATE_SUCCEEDED'>, create_time=datetime.datetime(2025, 5, 9, 6, 52, 53, 526339, tzinfo=TzInfo(UTC)), start_time=datetime.datetime(2025, 5, 9, 6, 52, 53, 568749, tzinfo=TzInfo(UTC)), end_time=datetime.datetime(2025, 5, 9, 7, 11, 5, 321686, tzinfo=TzInfo(UTC)), update_time=datetime.datetime(2025, 5, 9, 7, 11, 5, 321686, tzinfo=TzInfo(UTC)), error=None, description=None, base_model='gemini-2.0-flash-lite-001', tuned_model=TunedModel(model='projects/746866758104/locations/us-central1/models/6940043727243051008@1', endpoint='projects/746866758104/locations/us-central1/endpoints/7938919254751969280'), supervised_tuning_spec=SupervisedTuningSpec(hyper_parameters=SupervisedHyperParameters(adapter_size=<AdapterSize.ADAPTER_SIZE_EIGHT: 'ADAPTER_SIZE_EIGHT'>, epoch_count=1, learning_rate_multiplier=2.0), training_dataset_uri='gs://sql-create-context/train.jsonl', validation_dataset_uri=None), tuning_data_stats=TuningDataStats(distillation_data_stats=None, supervised_tuning_data_stats=SupervisedTuningDataStats(total_billable_character_count=None, total_billable_token_count=2221696, total_truncated_example_count=None, total_tuning_character_count=None, truncated_example_indices=None, tuning_dataset_example_count=6286, tuning_step_count=None, user_dataset_examples=[Content(parts=[Part(video_metadata=None, thought=None, code_execution_result=None, executable_code=None, file_data=None, function_call=None, function_response=None, inline_data=None, text='\\n\\n**Below the question with context that you need to answer**\\nContext: CREATE TABLE table_name_92 (release_date VARCHAR, l3_cache VARCHAR, part_number_s_ VARCHAR)\\nQuestion: What is the release date of the 6 mb L3 cache with the part number by80607005259aabx80607i7740qm?')], role='user'), Content(parts=[Part(video_metadata=None, thought=None, code_execution_result=None, executable_code=None, file_data=None, function_call=None, function_response=None, inline_data=None, text='SELECT release_date FROM table_name_92 WHERE l3_cache = \"6 mb\" AND part_number_s_ = \"by80607005259aabx80607i7740qm\"')], role='model'), Content(parts=[Part(video_metadata=None, thought=None, code_execution_result=None, executable_code=None, file_data=None, function_call=None, function_response=None, inline_data=None, text='\\n\\n**Below the question with context that you need to answer**\\nContext: CREATE TABLE Apartment_Bookings (booking_start_date VARCHAR, guest_id VARCHAR); CREATE TABLE Guests (guest_first_name VARCHAR, guest_id VARCHAR)\\nQuestion: Show the guest first names, start dates, and end dates of all the apartment bookings.')], role='user'), Content(parts=[Part(video_metadata=None, thought=None, code_execution_result=None, executable_code=None, file_data=None, function_call=None, function_response=None, inline_data=None, text='SELECT T2.guest_first_name, T1.booking_start_date, T1.booking_start_date FROM Apartment_Bookings AS T1 JOIN Guests AS T2 ON T1.guest_id = T2.guest_id')], role='model'), Content(parts=[Part(video_metadata=None, thought=None, code_execution_result=None, executable_code=None, file_data=None, function_call=None, function_response=None, inline_data=None, text='\\n\\n**Below the question with context that you need to answer**\\nContext: CREATE TABLE table_name_30 (record VARCHAR, visitor VARCHAR)\\nQuestion: Visitor of calgary has what record?')], role='user'), Content(parts=[Part(video_metadata=None, thought=None, code_execution_result=None, executable_code=None, file_data=None, function_call=None, function_response=None, inline_data=None, text='SELECT record FROM table_name_30 WHERE visitor = \"calgary\"')], role='model')], user_input_token_distribution=SupervisedTuningDatasetDistribution(billable_sum=None, buckets=[SupervisedTuningDatasetDistributionDatasetBucket(count=2200.0, left=304.0, right=322.0), SupervisedTuningDatasetDistributionDatasetBucket(count=3509.0, left=323.0, right=341.0), SupervisedTuningDatasetDistributionDatasetBucket(count=504.0, left=342.0, right=360.0), SupervisedTuningDatasetDistributionDatasetBucket(count=63.0, left=361.0, right=379.0), SupervisedTuningDatasetDistributionDatasetBucket(count=6.0, left=380.0, right=398.0), SupervisedTuningDatasetDistributionDatasetBucket(count=4.0, left=399.0, right=417.0)], max=417.0, mean=327.6097677378301, median=326.0, min=304.0, p5=315.0, p95=346.0, sum=2059355), user_message_per_example_distribution=SupervisedTuningDatasetDistribution(billable_sum=None, buckets=[SupervisedTuningDatasetDistributionDatasetBucket(count=6286.0, left=2.0, right=2.0)], max=2.0, mean=2.0, median=2.0, min=2.0, p5=2.0, p95=2.0, sum=12572), user_output_token_distribution=SupervisedTuningDatasetDistribution(billable_sum=None, buckets=[SupervisedTuningDatasetDistributionDatasetBucket(count=5111.0, left=5.0, right=31.0), SupervisedTuningDatasetDistributionDatasetBucket(count=1095.0, left=32.0, right=58.0), SupervisedTuningDatasetDistributionDatasetBucket(count=66.0, left=59.0, right=85.0), SupervisedTuningDatasetDistributionDatasetBucket(count=8.0, left=86.0, right=112.0), SupervisedTuningDatasetDistributionDatasetBucket(count=4.0, left=113.0, right=139.0), SupervisedTuningDatasetDistributionDatasetBucket(count=2.0, left=140.0, right=166.0)], max=166.0, mean=25.825803372573972, median=24.0, min=5.0, p5=16.0, p95=41.0, sum=162341))), encryption_spec=None, partner_model_tuning_spec=None, distillation_spec=None, experiment='projects/746866758104/locations/us-central1/metadataStores/default/contexts/tuning-experiment-20250508235327741708', labels=None, pipeline_job=None, tuned_model_display_name='sql-Tuned')"
      ]
     },
     "execution_count": 138,
     "metadata": {},
     "output_type": "execute_result"
    }
   ],
   "source": [
    "tuning_job = client.tunings.get(name=sft_tuning_job.name)\n",
    "tuning_job"
   ]
  },
  {
   "cell_type": "markdown",
   "metadata": {
    "id": "gV1ukBznKmlN"
   },
   "source": [
    "#### 模型调优指标\n",
    "\n",
    "- `/train_total_loss`: 训练步骤中调优数据集的损失值。\n",
    "- `/train_fraction_of_correct_next_step_preds`: 训练步骤中的标记准确率。一个预测由一系列标记组成。此指标衡量预测标记与调优数据集中的真实值相比的准确度。\n",
    "- `/train_num_predictions`:训练步骤中预测的标记数量。"
   ]
  },
  {
   "cell_type": "code",
   "execution_count": 139,
   "metadata": {
    "colab": {
     "base_uri": "https://localhost:8080/",
     "height": 35
    },
    "executionInfo": {
     "elapsed": 495,
     "status": "ok",
     "timestamp": 1746774676759,
     "user": {
      "displayName": "",
      "userId": ""
     },
     "user_tz": -480
    },
    "id": "_IoiiRH5Lhpf",
    "outputId": "6cdd616b-8073-4e19-dbcc-d7eb601c2c2e"
   },
   "outputs": [
    {
     "data": {
      "application/vnd.google.colaboratory.intrinsic+json": {
       "type": "string"
      },
      "text/plain": [
       "'projects/746866758104/locations/us-central1/metadataStores/default/contexts/tuning-experiment-20250508235327741708'"
      ]
     },
     "execution_count": 139,
     "metadata": {},
     "output_type": "execute_result"
    }
   ],
   "source": [
    "experiment_name = tuning_job.experiment\n",
    "experiment_name"
   ]
  },
  {
   "cell_type": "code",
   "execution_count": 140,
   "metadata": {
    "executionInfo": {
     "elapsed": 2,
     "status": "ok",
     "timestamp": 1746774677251,
     "user": {
      "displayName": "",
      "userId": ""
     },
     "user_tz": -480
    },
    "id": "DH0guHM---Jo"
   },
   "outputs": [],
   "source": [
    "experiment = aiplatform.Experiment(experiment_name=experiment_name)\n",
    "filter_str = metadata_utils._make_filter_string(\n",
    "    schema_title=\"system.ExperimentRun\",\n",
    "    parent_contexts=[experiment.resource_name],\n",
    ")\n",
    "experiment_run = context.Context.list(filter_str)[0]"
   ]
  },
  {
   "cell_type": "code",
   "execution_count": 141,
   "metadata": {
    "executionInfo": {
     "elapsed": 585,
     "status": "ok",
     "timestamp": 1746774679362,
     "user": {
      "displayName": "",
      "userId": ""
     },
     "user_tz": -480
    },
    "id": "hggHQFIl_FXC"
   },
   "outputs": [],
   "source": [
    "# Read data from Tensorboard\n",
    "tensorboard_run_name = f\"{experiment.get_backing_tensorboard_resource().resource_name}/experiments/{experiment.name}/runs/{experiment_run.name.replace(experiment.name, '')[1:]}\"\n",
    "tensorboard_run = aiplatform.TensorboardRun(tensorboard_run_name)\n",
    "metrics = tensorboard_run.read_time_series_data()"
   ]
  },
  {
   "cell_type": "code",
   "execution_count": 142,
   "metadata": {
    "executionInfo": {
     "elapsed": 2,
     "status": "ok",
     "timestamp": 1746774679362,
     "user": {
      "displayName": "",
      "userId": ""
     },
     "user_tz": -480
    },
    "id": "BdHKZdqG_bHf"
   },
   "outputs": [],
   "source": [
    "def get_metrics(metric: str = \"/train_total_loss\"):\n",
    "    loss_values = metrics[metric].values\n",
    "    steps_loss = []\n",
    "    steps = []\n",
    "    for loss in loss_values:\n",
    "        steps_loss.append(loss.scalar.value)\n",
    "        steps.append(loss.step)\n",
    "    return steps, steps_loss"
   ]
  },
  {
   "cell_type": "code",
   "execution_count": 143,
   "metadata": {
    "executionInfo": {
     "elapsed": 485,
     "status": "ok",
     "timestamp": 1746774689710,
     "user": {
      "displayName": "",
      "userId": ""
     },
     "user_tz": -480
    },
    "id": "_pDrlpA7_e9o"
   },
   "outputs": [],
   "source": [
    "train_loss = get_metrics(metric=\"/train_total_loss\")\n",
    "eval_loss = get_metrics(metric=\"/eval_total_loss\")"
   ]
  },
  {
   "cell_type": "code",
   "execution_count": 144,
   "metadata": {
    "colab": {
     "base_uri": "https://localhost:8080/",
     "height": 542
    },
    "executionInfo": {
     "elapsed": 6,
     "status": "ok",
     "timestamp": 1746774690226,
     "user": {
      "displayName": "",
      "userId": ""
     },
     "user_tz": -480
    },
    "id": "DL07j7u__iZx",
    "outputId": "4ca9277f-8061-48a9-efc6-dff3609d31f8"
   },
   "outputs": [
    {
     "data": {
      "text/html": [
       "<html>\n",
       "<head><meta charset=\"utf-8\" /></head>\n",
       "<body>\n",
       "    <div>            <script src=\"https://cdnjs.cloudflare.com/ajax/libs/mathjax/2.7.5/MathJax.js?config=TeX-AMS-MML_SVG\"></script><script type=\"text/javascript\">if (window.MathJax && window.MathJax.Hub && window.MathJax.Hub.Config) {window.MathJax.Hub.Config({SVG: {font: \"STIX-Web\"}});}</script>                <script type=\"text/javascript\">window.PlotlyConfig = {MathJaxConfig: 'local'};</script>\n",
       "        <script charset=\"utf-8\" src=\"https://cdn.plot.ly/plotly-2.35.2.min.js\"></script>                <div id=\"d18abc4f-e8f9-439b-85be-3d57f7e16be3\" class=\"plotly-graph-div\" style=\"height:525px; width:100%;\"></div>            <script type=\"text/javascript\">                                    window.PLOTLYENV=window.PLOTLYENV || {};                                    if (document.getElementById(\"d18abc4f-e8f9-439b-85be-3d57f7e16be3\")) {                    Plotly.newPlot(                        \"d18abc4f-e8f9-439b-85be-3d57f7e16be3\",                        [{\"mode\":\"lines\",\"name\":\"Train Loss\",\"x\":[1,2,3,4,5,6,7,8,9,10,11,12,13,14,15,16,17,18,19,20,21,22,23,24,25,26,27,28,29,30,31,32,33,34,35,36,37,38,39,40,41,42,43,44,45,46,47,48,49,50,51,52,53,54,55,56,57,58,59,60,61,62,63,64,65,66,67,68,69,70,71,72,73,74,75,76,77,78,79,80,81,82,83,84,85,86,87,88,89,90,91,92,93,94,95,96,97,98,99,100,101,102,103,104,105,106,107,108,109,110,111,112,113,114,115,116,117,118,119,120,121,122,123,124,125,126,127,128,129,130,131,132,133,134,135,136,137,138,139,140,141,142,143,144,145,146,147,148,149,150,151,152,153,154,155,156,157,158,159,160,161,162,163,164,165,166,167,168,169,170,171,172,173,174,175,176,177,178,179,180,181,182,183,184,185,186,187,188,189,190,191,192,193,194,195,196,197,198,199,200,201,202,203,204,205,206,207,208,209,210,211,212,213,214,215,216,217,218,219,220,221,222,223,224,225,226,227,228,229,230,231,232,233,234,235,236,237,238,239,240,241,242,243,244,245,246,247,248,249,250,251,252,253,254,255,256,257,258,259,260,261,262,263,264,265,266,267,268,269,270,271,272,273,274,275,276,277,278,279,280,281,282,283,284,285,286,287,288,289,290,291,292,293,294,295,296,297,298,299,300,301,302,303,304,305,306,307,308,309,310,311,312,313,314,315,316,317,318,319,320,321,322,323,324,325,326,327,328,329,330,331,332,333,334,335,336,337,338,339,340,341,342,343,344,345,346,347,348,349,350,351,352,353,354,355,356,357,358,359,360,361,362,363,364,365,366,367,368,369,370,371,372,373,374,375,376,377,378,379,380,381,382,383,384,385,386,387,388,389,390,391,392,393],\"y\":[0.8503162860870361,0.8977387547492981,1.1701959371566772,0.8361042737960815,0.8915616273880005,0.480425089597702,0.35973984003067017,0.11262477189302444,0.2291446477174759,0.12969917058944702,0.1834031194448471,0.08204567432403564,0.13251590728759766,0.10722681879997253,0.11921019107103348,0.23620332777500153,0.10887958109378815,0.11793270707130432,0.22226852178573608,0.04638988897204399,0.11285813897848129,0.20163343846797943,0.15244005620479584,0.1305040568113327,0.07608662545681,0.08347763866186142,0.1530596911907196,0.09303942322731018,0.14322175085544586,0.11439749598503113,0.05859411135315895,0.060146529227495193,0.07805897295475006,0.05582794174551964,0.08270033448934555,0.11589407920837402,0.03622400760650635,0.08627761900424957,0.08967220038175583,0.19314494729042053,0.06110946089029312,0.11070141196250916,0.12088097631931305,0.15382492542266846,0.06292758136987686,0.08213076740503311,0.08985982835292816,0.07093178480863571,0.05338076874613762,0.0820523276925087,0.05310775339603424,0.0904422402381897,0.0772818997502327,0.09490365535020828,0.03669325262308121,0.030223917216062546,0.10283052176237106,0.0906267985701561,0.08572713285684586,0.06296291947364807,0.05147448554635048,0.09687822312116623,0.07281924039125443,0.07737702876329422,0.05017322301864624,0.04666189104318619,0.05125189945101738,0.12095180153846741,0.1691732555627823,0.03318885341286659,0.07499653846025467,0.029429780319333076,0.050976112484931946,0.07731084525585175,0.08056556433439255,0.0889679342508316,0.059008777141571045,0.07556445151567459,0.05572900548577309,0.0460396334528923,0.08031918108463287,0.08079908788204193,0.021138641983270645,0.03479037433862686,0.11246901750564575,0.07183517515659332,0.053244952112436295,0.049229711294174194,0.052331119775772095,0.02764163725078106,0.08973483741283417,0.03118833340704441,0.07737257331609726,0.06088580936193466,0.047286223620176315,0.0468142107129097,0.051046404987573624,0.08352206647396088,0.026275135576725006,0.02022583782672882,0.040382061153650284,0.04869009554386139,0.1223413497209549,0.059803556650877,0.08222728967666626,0.04390216991305351,0.038691967725753784,0.039248816668987274,0.035769153386354446,0.04391562566161156,0.05210517719388008,0.03800370171666145,0.07417340576648712,0.021506085991859436,0.02759772725403309,0.075733482837677,0.12814027070999146,0.019810566678643227,0.0928753986954689,0.024357398971915245,0.05425914376974106,0.056490469723939896,0.028827110305428505,0.07303486764431,0.05378439277410507,0.06075030937790871,0.016107093542814255,0.10735638439655304,0.056344661861658096,0.0283069908618927,0.029855089262127876,0.04250135272741318,0.03496607020497322,0.03828469663858414,0.06002916395664215,0.07643482834100723,0.036981768906116486,0.019800424575805664,0.04223162680864334,0.04599190130829811,0.019246555864810944,0.11951178312301636,0.0626160278916359,0.02777262032032013,0.039358217269182205,0.04641421139240265,0.08992674946784973,0.03234982490539551,0.03580914065241814,0.10458984971046448,0.08398207277059555,0.020825829356908798,0.0662306472659111,0.04743237793445587,0.04278692975640297,0.10514223575592041,0.07781338691711426,0.05847793444991112,0.0562279112637043,0.06747837364673615,0.02521246299147606,0.038007184863090515,0.062436722218990326,0.06825252622365952,0.03471718356013298,0.04618758335709572,0.02754042111337185,0.0973072499036789,0.03543421998620033,0.07363869249820709,0.06298989802598953,0.11376204341650009,0.027953321114182472,0.03166317194700241,0.06517456471920013,0.1414261758327484,0.025359738618135452,0.03075788915157318,0.10166219621896744,0.0757129117846489,0.055808112025260925,0.023599956184625626,0.04170089587569237,0.02427656576037407,0.04708496481180191,0.04493577778339386,0.041977670043706894,0.07285965234041214,0.037835851311683655,0.0365346223115921,0.04942430928349495,0.0896477997303009,0.033074937760829926,0.09536255151033401,0.09857720136642456,0.08922147005796432,0.0698758065700531,0.030531758442521095,0.08491691201925278,0.0251317098736763,0.1413116455078125,0.04304759204387665,0.08136987686157227,0.04449132829904556,0.02311566472053528,0.02129092812538147,0.037036631256341934,0.030888646841049194,0.06229477375745773,0.026559721678495407,0.05457323044538498,0.027912180870771408,0.0730288103222847,0.021273769438266754,0.02952388860285282,0.029207736253738403,0.01057184487581253,0.11932005733251572,0.011176339350640774,0.05085355043411255,0.0687272921204567,0.017971113324165344,0.07426957041025162,0.09531450271606445,0.04253079742193222,0.05136849358677864,0.023785533383488655,0.021051982417702675,0.07927641272544861,0.04323836416006088,0.043548863381147385,0.031395073980093,0.02102174609899521,0.04618552699685097,0.047385893762111664,0.020776906982064247,0.08511366695165634,0.0314270444214344,0.042810678482055664,0.05424286797642708,0.02093544602394104,0.02099813148379326,0.032059673219919205,0.06610605865716934,0.028362883254885674,0.04937342554330826,0.057485174387693405,0.0057390485890209675,0.02635645866394043,0.02617034874856472,0.04347771033644676,0.030376890674233437,0.03272707387804985,0.06796300411224365,0.061508480459451675,0.045311130583286285,0.11558729410171509,0.031092483550310135,0.07350466400384903,0.035156503319740295,0.02946680411696434,0.25470107793807983,0.07013431191444397,0.03572075068950653,0.025970757007598877,0.051958806812763214,0.023652231320738792,0.044710662215948105,0.04302288219332695,0.027568740770220757,0.028232643380761147,0.046084169298410416,0.034988053143024445,0.045475900173187256,0.0713227391242981,0.03486952558159828,0.03783073276281357,0.07902011275291443,0.05868585407733917,0.03839707002043724,0.03159547969698906,0.027350468561053276,0.043773941695690155,0.03971455246210098,0.027214650064706802,0.03721802681684494,0.03198030963540077,0.06597540527582169,0.015881014987826347,0.04116138443350792,0.006901239510625601,0.04287923127412796,0.04266184940934181,0.02398137003183365,0.044631704688072205,0.039445411413908005,0.023608418181538582,0.06704636663198471,0.03305184096097946,0.036291565746068954,0.06959058344364166,0.05662453547120094,0.027065545320510864,0.05593404173851013,0.03284355252981186,0.07738886028528214,0.023448258638381958,0.06627395004034042,0.06696517020463943,0.04129377007484436,0.04332701489329338,0.042733803391456604,0.05666197091341019,0.054446347057819366,0.019984550774097443,0.03849388286471367,0.026694150641560555,0.046823859214782715,0.020920656621456146,0.04268204793334007,0.08921924978494644,0.03140809386968613,0.05269860476255417,0.030470119789242744,0.06205175817012787,0.012738448567688465,0.12919951975345612,0.02604098431766033,0.02277626097202301,0.030145615339279175,0.06553711742162704,0.06440136581659317,0.04211270436644554,0.012758627533912659,0.04172734543681145,0.10693605989217758,0.019769085571169853,0.04039352014660835,0.028604697436094284,0.02581404149532318,0.05034985393285751,0.019185340031981468,0.062224529683589935,0.06174193322658539,0.023695427924394608,0.043489377945661545,0.023028764873743057,0.018195779994130135,0.035839617252349854,0.027861222624778748,0.032806865870952606,0.06251595914363861,0.049618177115917206,0.01771225966513157,0.030382832512259483,0.022434445098042488,0.04853268712759018,0.050735656172037125,0.046674616634845734,0.011354387737810612,0.018404409289360046,0.10458158701658249,0.03823557123541832,0.012652224861085415,0.059394463896751404,0.01978410966694355,0.032080184668302536,0.015524967573583126,0.03606237843632698,0.02208791673183441,0.012908190488815308,0.017872031778097153,0.00750608928501606,0.025239862501621246,0.0708870142698288,0.05942055955529213,0.029062988236546516,0.0674278736114502,0.023840460926294327,0.02587205357849598,0.019092362374067307,0.02567795291543007,0.029851974919438362,0.06559749692678452,0.035341501235961914,0.01571233943104744,0.05981338024139404,0.03187314420938492,0.02731022611260414,0.11145109683275223,0.06616596132516861,0.020265186205506325,0.015500129200518131],\"type\":\"scatter\",\"xaxis\":\"x\",\"yaxis\":\"y\"},{\"mode\":\"lines\",\"name\":\"Eval Loss\",\"x\":[],\"y\":[],\"type\":\"scatter\",\"xaxis\":\"x2\",\"yaxis\":\"y2\"}],                        {\"template\":{\"data\":{\"histogram2dcontour\":[{\"type\":\"histogram2dcontour\",\"colorbar\":{\"outlinewidth\":0,\"ticks\":\"\"},\"colorscale\":[[0.0,\"#0d0887\"],[0.1111111111111111,\"#46039f\"],[0.2222222222222222,\"#7201a8\"],[0.3333333333333333,\"#9c179e\"],[0.4444444444444444,\"#bd3786\"],[0.5555555555555556,\"#d8576b\"],[0.6666666666666666,\"#ed7953\"],[0.7777777777777778,\"#fb9f3a\"],[0.8888888888888888,\"#fdca26\"],[1.0,\"#f0f921\"]]}],\"choropleth\":[{\"type\":\"choropleth\",\"colorbar\":{\"outlinewidth\":0,\"ticks\":\"\"}}],\"histogram2d\":[{\"type\":\"histogram2d\",\"colorbar\":{\"outlinewidth\":0,\"ticks\":\"\"},\"colorscale\":[[0.0,\"#0d0887\"],[0.1111111111111111,\"#46039f\"],[0.2222222222222222,\"#7201a8\"],[0.3333333333333333,\"#9c179e\"],[0.4444444444444444,\"#bd3786\"],[0.5555555555555556,\"#d8576b\"],[0.6666666666666666,\"#ed7953\"],[0.7777777777777778,\"#fb9f3a\"],[0.8888888888888888,\"#fdca26\"],[1.0,\"#f0f921\"]]}],\"heatmap\":[{\"type\":\"heatmap\",\"colorbar\":{\"outlinewidth\":0,\"ticks\":\"\"},\"colorscale\":[[0.0,\"#0d0887\"],[0.1111111111111111,\"#46039f\"],[0.2222222222222222,\"#7201a8\"],[0.3333333333333333,\"#9c179e\"],[0.4444444444444444,\"#bd3786\"],[0.5555555555555556,\"#d8576b\"],[0.6666666666666666,\"#ed7953\"],[0.7777777777777778,\"#fb9f3a\"],[0.8888888888888888,\"#fdca26\"],[1.0,\"#f0f921\"]]}],\"heatmapgl\":[{\"type\":\"heatmapgl\",\"colorbar\":{\"outlinewidth\":0,\"ticks\":\"\"},\"colorscale\":[[0.0,\"#0d0887\"],[0.1111111111111111,\"#46039f\"],[0.2222222222222222,\"#7201a8\"],[0.3333333333333333,\"#9c179e\"],[0.4444444444444444,\"#bd3786\"],[0.5555555555555556,\"#d8576b\"],[0.6666666666666666,\"#ed7953\"],[0.7777777777777778,\"#fb9f3a\"],[0.8888888888888888,\"#fdca26\"],[1.0,\"#f0f921\"]]}],\"contourcarpet\":[{\"type\":\"contourcarpet\",\"colorbar\":{\"outlinewidth\":0,\"ticks\":\"\"}}],\"contour\":[{\"type\":\"contour\",\"colorbar\":{\"outlinewidth\":0,\"ticks\":\"\"},\"colorscale\":[[0.0,\"#0d0887\"],[0.1111111111111111,\"#46039f\"],[0.2222222222222222,\"#7201a8\"],[0.3333333333333333,\"#9c179e\"],[0.4444444444444444,\"#bd3786\"],[0.5555555555555556,\"#d8576b\"],[0.6666666666666666,\"#ed7953\"],[0.7777777777777778,\"#fb9f3a\"],[0.8888888888888888,\"#fdca26\"],[1.0,\"#f0f921\"]]}],\"surface\":[{\"type\":\"surface\",\"colorbar\":{\"outlinewidth\":0,\"ticks\":\"\"},\"colorscale\":[[0.0,\"#0d0887\"],[0.1111111111111111,\"#46039f\"],[0.2222222222222222,\"#7201a8\"],[0.3333333333333333,\"#9c179e\"],[0.4444444444444444,\"#bd3786\"],[0.5555555555555556,\"#d8576b\"],[0.6666666666666666,\"#ed7953\"],[0.7777777777777778,\"#fb9f3a\"],[0.8888888888888888,\"#fdca26\"],[1.0,\"#f0f921\"]]}],\"mesh3d\":[{\"type\":\"mesh3d\",\"colorbar\":{\"outlinewidth\":0,\"ticks\":\"\"}}],\"scatter\":[{\"fillpattern\":{\"fillmode\":\"overlay\",\"size\":10,\"solidity\":0.2},\"type\":\"scatter\"}],\"parcoords\":[{\"type\":\"parcoords\",\"line\":{\"colorbar\":{\"outlinewidth\":0,\"ticks\":\"\"}}}],\"scatterpolargl\":[{\"type\":\"scatterpolargl\",\"marker\":{\"colorbar\":{\"outlinewidth\":0,\"ticks\":\"\"}}}],\"bar\":[{\"error_x\":{\"color\":\"#2a3f5f\"},\"error_y\":{\"color\":\"#2a3f5f\"},\"marker\":{\"line\":{\"color\":\"#E5ECF6\",\"width\":0.5},\"pattern\":{\"fillmode\":\"overlay\",\"size\":10,\"solidity\":0.2}},\"type\":\"bar\"}],\"scattergeo\":[{\"type\":\"scattergeo\",\"marker\":{\"colorbar\":{\"outlinewidth\":0,\"ticks\":\"\"}}}],\"scatterpolar\":[{\"type\":\"scatterpolar\",\"marker\":{\"colorbar\":{\"outlinewidth\":0,\"ticks\":\"\"}}}],\"histogram\":[{\"marker\":{\"pattern\":{\"fillmode\":\"overlay\",\"size\":10,\"solidity\":0.2}},\"type\":\"histogram\"}],\"scattergl\":[{\"type\":\"scattergl\",\"marker\":{\"colorbar\":{\"outlinewidth\":0,\"ticks\":\"\"}}}],\"scatter3d\":[{\"type\":\"scatter3d\",\"line\":{\"colorbar\":{\"outlinewidth\":0,\"ticks\":\"\"}},\"marker\":{\"colorbar\":{\"outlinewidth\":0,\"ticks\":\"\"}}}],\"scattermapbox\":[{\"type\":\"scattermapbox\",\"marker\":{\"colorbar\":{\"outlinewidth\":0,\"ticks\":\"\"}}}],\"scatterternary\":[{\"type\":\"scatterternary\",\"marker\":{\"colorbar\":{\"outlinewidth\":0,\"ticks\":\"\"}}}],\"scattercarpet\":[{\"type\":\"scattercarpet\",\"marker\":{\"colorbar\":{\"outlinewidth\":0,\"ticks\":\"\"}}}],\"carpet\":[{\"aaxis\":{\"endlinecolor\":\"#2a3f5f\",\"gridcolor\":\"white\",\"linecolor\":\"white\",\"minorgridcolor\":\"white\",\"startlinecolor\":\"#2a3f5f\"},\"baxis\":{\"endlinecolor\":\"#2a3f5f\",\"gridcolor\":\"white\",\"linecolor\":\"white\",\"minorgridcolor\":\"white\",\"startlinecolor\":\"#2a3f5f\"},\"type\":\"carpet\"}],\"table\":[{\"cells\":{\"fill\":{\"color\":\"#EBF0F8\"},\"line\":{\"color\":\"white\"}},\"header\":{\"fill\":{\"color\":\"#C8D4E3\"},\"line\":{\"color\":\"white\"}},\"type\":\"table\"}],\"barpolar\":[{\"marker\":{\"line\":{\"color\":\"#E5ECF6\",\"width\":0.5},\"pattern\":{\"fillmode\":\"overlay\",\"size\":10,\"solidity\":0.2}},\"type\":\"barpolar\"}],\"pie\":[{\"automargin\":true,\"type\":\"pie\"}]},\"layout\":{\"autotypenumbers\":\"strict\",\"colorway\":[\"#636efa\",\"#EF553B\",\"#00cc96\",\"#ab63fa\",\"#FFA15A\",\"#19d3f3\",\"#FF6692\",\"#B6E880\",\"#FF97FF\",\"#FECB52\"],\"font\":{\"color\":\"#2a3f5f\"},\"hovermode\":\"closest\",\"hoverlabel\":{\"align\":\"left\"},\"paper_bgcolor\":\"white\",\"plot_bgcolor\":\"#E5ECF6\",\"polar\":{\"bgcolor\":\"#E5ECF6\",\"angularaxis\":{\"gridcolor\":\"white\",\"linecolor\":\"white\",\"ticks\":\"\"},\"radialaxis\":{\"gridcolor\":\"white\",\"linecolor\":\"white\",\"ticks\":\"\"}},\"ternary\":{\"bgcolor\":\"#E5ECF6\",\"aaxis\":{\"gridcolor\":\"white\",\"linecolor\":\"white\",\"ticks\":\"\"},\"baxis\":{\"gridcolor\":\"white\",\"linecolor\":\"white\",\"ticks\":\"\"},\"caxis\":{\"gridcolor\":\"white\",\"linecolor\":\"white\",\"ticks\":\"\"}},\"coloraxis\":{\"colorbar\":{\"outlinewidth\":0,\"ticks\":\"\"}},\"colorscale\":{\"sequential\":[[0.0,\"#0d0887\"],[0.1111111111111111,\"#46039f\"],[0.2222222222222222,\"#7201a8\"],[0.3333333333333333,\"#9c179e\"],[0.4444444444444444,\"#bd3786\"],[0.5555555555555556,\"#d8576b\"],[0.6666666666666666,\"#ed7953\"],[0.7777777777777778,\"#fb9f3a\"],[0.8888888888888888,\"#fdca26\"],[1.0,\"#f0f921\"]],\"sequentialminus\":[[0.0,\"#0d0887\"],[0.1111111111111111,\"#46039f\"],[0.2222222222222222,\"#7201a8\"],[0.3333333333333333,\"#9c179e\"],[0.4444444444444444,\"#bd3786\"],[0.5555555555555556,\"#d8576b\"],[0.6666666666666666,\"#ed7953\"],[0.7777777777777778,\"#fb9f3a\"],[0.8888888888888888,\"#fdca26\"],[1.0,\"#f0f921\"]],\"diverging\":[[0,\"#8e0152\"],[0.1,\"#c51b7d\"],[0.2,\"#de77ae\"],[0.3,\"#f1b6da\"],[0.4,\"#fde0ef\"],[0.5,\"#f7f7f7\"],[0.6,\"#e6f5d0\"],[0.7,\"#b8e186\"],[0.8,\"#7fbc41\"],[0.9,\"#4d9221\"],[1,\"#276419\"]]},\"xaxis\":{\"gridcolor\":\"white\",\"linecolor\":\"white\",\"ticks\":\"\",\"title\":{\"standoff\":15},\"zerolinecolor\":\"white\",\"automargin\":true,\"zerolinewidth\":2},\"yaxis\":{\"gridcolor\":\"white\",\"linecolor\":\"white\",\"ticks\":\"\",\"title\":{\"standoff\":15},\"zerolinecolor\":\"white\",\"automargin\":true,\"zerolinewidth\":2},\"scene\":{\"xaxis\":{\"backgroundcolor\":\"#E5ECF6\",\"gridcolor\":\"white\",\"linecolor\":\"white\",\"showbackground\":true,\"ticks\":\"\",\"zerolinecolor\":\"white\",\"gridwidth\":2},\"yaxis\":{\"backgroundcolor\":\"#E5ECF6\",\"gridcolor\":\"white\",\"linecolor\":\"white\",\"showbackground\":true,\"ticks\":\"\",\"zerolinecolor\":\"white\",\"gridwidth\":2},\"zaxis\":{\"backgroundcolor\":\"#E5ECF6\",\"gridcolor\":\"white\",\"linecolor\":\"white\",\"showbackground\":true,\"ticks\":\"\",\"zerolinecolor\":\"white\",\"gridwidth\":2}},\"shapedefaults\":{\"line\":{\"color\":\"#2a3f5f\"}},\"annotationdefaults\":{\"arrowcolor\":\"#2a3f5f\",\"arrowhead\":0,\"arrowwidth\":1},\"geo\":{\"bgcolor\":\"white\",\"landcolor\":\"#E5ECF6\",\"subunitcolor\":\"white\",\"showland\":true,\"showlakes\":true,\"lakecolor\":\"white\"},\"title\":{\"x\":0.05},\"mapbox\":{\"style\":\"light\"}}},\"xaxis\":{\"anchor\":\"y\",\"domain\":[0.0,0.45],\"title\":{\"text\":\"Steps\"}},\"yaxis\":{\"anchor\":\"x\",\"domain\":[0.0,1.0],\"title\":{\"text\":\"Loss\"}},\"xaxis2\":{\"anchor\":\"y2\",\"domain\":[0.55,1.0],\"title\":{\"text\":\"Steps\"}},\"yaxis2\":{\"anchor\":\"x2\",\"domain\":[0.0,1.0],\"title\":{\"text\":\"Loss\"}},\"annotations\":[{\"font\":{\"size\":16},\"showarrow\":false,\"text\":\"Train Loss\",\"x\":0.225,\"xanchor\":\"center\",\"xref\":\"paper\",\"y\":1.0,\"yanchor\":\"bottom\",\"yref\":\"paper\"},{\"font\":{\"size\":16},\"showarrow\":false,\"text\":\"Eval Loss\",\"x\":0.775,\"xanchor\":\"center\",\"xref\":\"paper\",\"y\":1.0,\"yanchor\":\"bottom\",\"yref\":\"paper\"}],\"title\":{\"text\":\"Train and Eval Loss\"}},                        {\"responsive\": true}                    ).then(function(){\n",
       "                            \n",
       "var gd = document.getElementById('d18abc4f-e8f9-439b-85be-3d57f7e16be3');\n",
       "var x = new MutationObserver(function (mutations, observer) {{\n",
       "        var display = window.getComputedStyle(gd).display;\n",
       "        if (!display || display === 'none') {{\n",
       "            console.log([gd, 'removed!']);\n",
       "            Plotly.purge(gd);\n",
       "            observer.disconnect();\n",
       "        }}\n",
       "}});\n",
       "\n",
       "// Listen for the removal of the full notebook cells\n",
       "var notebookContainer = gd.closest('#notebook-container');\n",
       "if (notebookContainer) {{\n",
       "    x.observe(notebookContainer, {childList: true});\n",
       "}}\n",
       "\n",
       "// Listen for the clearing of the current output cell\n",
       "var outputEl = gd.closest('.output');\n",
       "if (outputEl) {{\n",
       "    x.observe(outputEl, {childList: true});\n",
       "}}\n",
       "\n",
       "                        })                };                            </script>        </div>\n",
       "</body>\n",
       "</html>"
      ]
     },
     "metadata": {},
     "output_type": "display_data"
    }
   ],
   "source": [
    "# Plot the train and eval loss metrics using Plotly python library\n",
    "fig = make_subplots(\n",
    "    rows=1, cols=2, shared_xaxes=True, subplot_titles=(\"Train Loss\", \"Eval Loss\")\n",
    ")\n",
    "\n",
    "# Add traces\n",
    "fig.add_trace(\n",
    "    go.Scatter(x=train_loss[0], y=train_loss[1], name=\"Train Loss\", mode=\"lines\"),\n",
    "    row=1,\n",
    "    col=1,\n",
    ")\n",
    "fig.add_trace(\n",
    "    go.Scatter(x=eval_loss[0], y=eval_loss[1], name=\"Eval Loss\", mode=\"lines\"),\n",
    "    row=1,\n",
    "    col=2,\n",
    ")\n",
    "\n",
    "# Add figure title\n",
    "fig.update_layout(title=\"Train and Eval Loss\", xaxis_title=\"Steps\", yaxis_title=\"Loss\")\n",
    "\n",
    "# Set x-axis title\n",
    "fig.update_xaxes(title_text=\"Steps\")\n",
    "\n",
    "# Set y-axes titles\n",
    "fig.update_yaxes(title_text=\"Loss\")\n",
    "\n",
    "# Show plot\n",
    "fig.show()"
   ]
  },
  {
   "cell_type": "markdown",
   "metadata": {
    "id": "pivmh4Lwbgy1"
   },
   "source": [
    "### 使用微调后的模型评估"
   ]
  },
  {
   "cell_type": "code",
   "execution_count": 145,
   "metadata": {
    "executionInfo": {
     "elapsed": 488,
     "status": "ok",
     "timestamp": 1746774694539,
     "user": {
      "displayName": "",
      "userId": ""
     },
     "user_tz": -480
    },
    "id": "qO6ln4teagw1"
   },
   "outputs": [],
   "source": [
    "prompt = \"\"\"\n",
    "Answer the question based on the context\n",
    "\n",
    "question: What is the branding for callsign dypv?,\n",
    "context: CREATE TABLE table_27588823_2 (branding VARCHAR, callsign VARCHAR)\n",
    "\"\"\""
   ]
  },
  {
   "cell_type": "code",
   "execution_count": 146,
   "metadata": {
    "colab": {
     "base_uri": "https://localhost:8080/",
     "height": 35
    },
    "executionInfo": {
     "elapsed": 4,
     "status": "ok",
     "timestamp": 1746774696052,
     "user": {
      "displayName": "",
      "userId": ""
     },
     "user_tz": -480
    },
    "id": "QJgK_ZfL5dsj",
    "outputId": "d24abe35-71a8-4366-a2ea-bd4721ae586a"
   },
   "outputs": [
    {
     "data": {
      "application/vnd.google.colaboratory.intrinsic+json": {
       "type": "string"
      },
      "text/plain": [
       "'projects/746866758104/locations/us-central1/endpoints/7938919254751969280'"
      ]
     },
     "execution_count": 146,
     "metadata": {},
     "output_type": "execute_result"
    }
   ],
   "source": [
    "tuned_model = tuning_job.tuned_model.endpoint\n",
    "tuned_model"
   ]
  },
  {
   "cell_type": "code",
   "execution_count": 147,
   "metadata": {
    "colab": {
     "base_uri": "https://localhost:8080/",
     "height": 35
    },
    "executionInfo": {
     "elapsed": 2525,
     "status": "ok",
     "timestamp": 1746774698574,
     "user": {
      "displayName": "",
      "userId": ""
     },
     "user_tz": -480
    },
    "id": "ifhRboiCOBje",
    "outputId": "9c8fac88-97ad-4581-b89c-872fc0bce6be"
   },
   "outputs": [
    {
     "data": {
      "application/vnd.google.colaboratory.intrinsic+json": {
       "type": "string"
      },
      "text/plain": [
       "'SELECT branding FROM table_27588823_2 WHERE callsign = \"DYPV\"'"
      ]
     },
     "execution_count": 147,
     "metadata": {},
     "output_type": "execute_result"
    }
   ],
   "source": [
    "get_predictions(prompt, tuned_model)"
   ]
  },
  {
   "cell_type": "code",
   "execution_count": 149,
   "metadata": {
    "colab": {
     "base_uri": "https://localhost:8080/",
     "height": 164
    },
    "executionInfo": {
     "elapsed": 303746,
     "status": "ok",
     "timestamp": 1746775061344,
     "user": {
      "displayName": "",
      "userId": ""
     },
     "user_tz": -480
    },
    "id": "SyrEDGAoA4f5",
    "outputId": "39b2e2ed-839b-488c-cdb9-a80340ce7c4a"
   },
   "outputs": [
    {
     "name": "stderr",
     "output_type": "stream",
     "text": [
      "100%|██████████| 783/783 [05:03<00:00,  2.58it/s]\n"
     ]
    },
    {
     "data": {
      "application/vnd.google.colaboratory.intrinsic+json": {
       "summary": "{\n  \"name\": \"test_df\",\n  \"rows\": 783,\n  \"fields\": [\n    {\n      \"column\": \"answer\",\n      \"properties\": {\n        \"dtype\": \"string\",\n        \"num_unique_values\": 783,\n        \"samples\": [\n          \"SELECT SUM(goals) FROM table_name_65 WHERE player = \\\"dave taylor\\\" AND tries > 1\",\n          \"SELECT sequencer FROM table_127511_1 WHERE ion_torrent_pgm = \\\"200-400 bp\\\"\",\n          \"SELECT location_attendance FROM table_name_52 WHERE date = \\\"february 25\\\"\"\n        ],\n        \"semantic_type\": \"\",\n        \"description\": \"\"\n      }\n    },\n    {\n      \"column\": \"question\",\n      \"properties\": {\n        \"dtype\": \"string\",\n        \"num_unique_values\": 783,\n        \"samples\": [\n          \"What is the number of goals Dave Taylor, who has more than 1 tries, has?\",\n          \"What is the sequencer when ion torrent pgm is 200-400 bp?\",\n          \"What is the location attendance of the game on February 25?\"\n        ],\n        \"semantic_type\": \"\",\n        \"description\": \"\"\n      }\n    },\n    {\n      \"column\": \"context\",\n      \"properties\": {\n        \"dtype\": \"string\",\n        \"num_unique_values\": 783,\n        \"samples\": [\n          \"CREATE TABLE table_name_65 (goals INTEGER, player VARCHAR, tries VARCHAR)\",\n          \"CREATE TABLE table_127511_1 (sequencer VARCHAR, ion_torrent_pgm VARCHAR)\",\n          \"CREATE TABLE table_name_52 (location_attendance VARCHAR, date VARCHAR)\"\n        ],\n        \"semantic_type\": \"\",\n        \"description\": \"\"\n      }\n    },\n    {\n      \"column\": \"systemInstruct\",\n      \"properties\": {\n        \"dtype\": \"category\",\n        \"num_unique_values\": 1,\n        \"samples\": [\n          \"You are a Database Query Assistant. Your role is to generate SQL queries based on user questions and the provided context. The context will be provided in the form of CREATE TABLE statements that define the database schema.\\n\\n\\nHere are some examples: \\n\\n\\nContext: CREATE TABLE table_name_40 (goals VARCHAR, name VARCHAR, debut_year VARCHAR)\\nQuestion: How many goals occurred with Diego Milito in a debut year later than 2008?\\nAnswer: SELECT COUNT(goals) FROM table_name_40 WHERE name = \\\"diego milito\\\" AND debut_year > 2008\\n\\nContext: CREATE TABLE table_1670921_2 (wicket VARCHAR, runs VARCHAR, fielding_team VARCHAR)\\nQuestion: What are the wickets when there are 451 runs and india is the fielding team?\\nAnswer: SELECT wicket FROM table_1670921_2 WHERE runs = \\\"451\\\" AND fielding_team = \\\"India\\\"\\n\\nContext: CREATE TABLE table_name_98 (_number_of_bids VARCHAR, conference VARCHAR)\\nQuestion: How many bids does Atlantic 10 have?\\nAnswer: SELECT _number_of_bids FROM table_name_98 WHERE conference = \\\"atlantic 10\\\"\\n\\n\"\n        ],\n        \"semantic_type\": \"\",\n        \"description\": \"\"\n      }\n    },\n    {\n      \"column\": \"input_question\",\n      \"properties\": {\n        \"dtype\": \"string\",\n        \"num_unique_values\": 783,\n        \"samples\": [\n          \"\\n\\n**Below the question with context that you need to answer**\\nContext: CREATE TABLE table_name_65 (goals INTEGER, player VARCHAR, tries VARCHAR)\\nQuestion: What is the number of goals Dave Taylor, who has more than 1 tries, has?\"\n        ],\n        \"semantic_type\": \"\",\n        \"description\": \"\"\n      }\n    },\n    {\n      \"column\": \"predicted_answer\",\n      \"properties\": {\n        \"dtype\": \"string\",\n        \"num_unique_values\": 783,\n        \"samples\": [\n          \"SELECT SUM(goals) FROM table_name_65 WHERE player = \\\"dave taylor\\\" AND tries > 1\"\n        ],\n        \"semantic_type\": \"\",\n        \"description\": \"\"\n      }\n    }\n  ]\n}",
       "type": "dataframe",
       "variable_name": "test_df"
      },
      "text/html": [
       "\n",
       "  <div id=\"df-beb5a29c-b49f-4be4-b910-abdf60af2a00\" class=\"colab-df-container\">\n",
       "    <div>\n",
       "<style scoped>\n",
       "    .dataframe tbody tr th:only-of-type {\n",
       "        vertical-align: middle;\n",
       "    }\n",
       "\n",
       "    .dataframe tbody tr th {\n",
       "        vertical-align: top;\n",
       "    }\n",
       "\n",
       "    .dataframe thead th {\n",
       "        text-align: right;\n",
       "    }\n",
       "</style>\n",
       "<table border=\"1\" class=\"dataframe\">\n",
       "  <thead>\n",
       "    <tr style=\"text-align: right;\">\n",
       "      <th></th>\n",
       "      <th>answer</th>\n",
       "      <th>question</th>\n",
       "      <th>context</th>\n",
       "      <th>systemInstruct</th>\n",
       "      <th>input_question</th>\n",
       "      <th>predicted_answer</th>\n",
       "    </tr>\n",
       "  </thead>\n",
       "  <tbody>\n",
       "    <tr>\n",
       "      <th>7093</th>\n",
       "      <td>SELECT rating___percentage_ FROM table_name_73...</td>\n",
       "      <td>Name the rating % for channel of anhui satelli...</td>\n",
       "      <td>CREATE TABLE table_name_73 (rating___percentag...</td>\n",
       "      <td>You are a Database Query Assistant. Your role ...</td>\n",
       "      <td>\\n\\n**Below the question with context that you...</td>\n",
       "      <td>SELECT rating___percentage_ FROM table_name_73...</td>\n",
       "    </tr>\n",
       "    <tr>\n",
       "      <th>1405</th>\n",
       "      <td>SELECT us_viewers__millions_ FROM table_222652...</td>\n",
       "      <td>How many million U.s. Viewers watched episode ...</td>\n",
       "      <td>CREATE TABLE table_22265225_1 (us_viewers__mil...</td>\n",
       "      <td>You are a Database Query Assistant. Your role ...</td>\n",
       "      <td>\\n\\n**Below the question with context that you...</td>\n",
       "      <td>SELECT us_viewers__millions_ FROM table_222652...</td>\n",
       "    </tr>\n",
       "  </tbody>\n",
       "</table>\n",
       "</div>\n",
       "    <div class=\"colab-df-buttons\">\n",
       "\n",
       "  <div class=\"colab-df-container\">\n",
       "    <button class=\"colab-df-convert\" onclick=\"convertToInteractive('df-beb5a29c-b49f-4be4-b910-abdf60af2a00')\"\n",
       "            title=\"Convert this dataframe to an interactive table.\"\n",
       "            style=\"display:none;\">\n",
       "\n",
       "  <svg xmlns=\"http://www.w3.org/2000/svg\" height=\"24px\" viewBox=\"0 -960 960 960\">\n",
       "    <path d=\"M120-120v-720h720v720H120Zm60-500h600v-160H180v160Zm220 220h160v-160H400v160Zm0 220h160v-160H400v160ZM180-400h160v-160H180v160Zm440 0h160v-160H620v160ZM180-180h160v-160H180v160Zm440 0h160v-160H620v160Z\"/>\n",
       "  </svg>\n",
       "    </button>\n",
       "\n",
       "  <style>\n",
       "    .colab-df-container {\n",
       "      display:flex;\n",
       "      gap: 12px;\n",
       "    }\n",
       "\n",
       "    .colab-df-convert {\n",
       "      background-color: #E8F0FE;\n",
       "      border: none;\n",
       "      border-radius: 50%;\n",
       "      cursor: pointer;\n",
       "      display: none;\n",
       "      fill: #1967D2;\n",
       "      height: 32px;\n",
       "      padding: 0 0 0 0;\n",
       "      width: 32px;\n",
       "    }\n",
       "\n",
       "    .colab-df-convert:hover {\n",
       "      background-color: #E2EBFA;\n",
       "      box-shadow: 0px 1px 2px rgba(60, 64, 67, 0.3), 0px 1px 3px 1px rgba(60, 64, 67, 0.15);\n",
       "      fill: #174EA6;\n",
       "    }\n",
       "\n",
       "    .colab-df-buttons div {\n",
       "      margin-bottom: 4px;\n",
       "    }\n",
       "\n",
       "    [theme=dark] .colab-df-convert {\n",
       "      background-color: #3B4455;\n",
       "      fill: #D2E3FC;\n",
       "    }\n",
       "\n",
       "    [theme=dark] .colab-df-convert:hover {\n",
       "      background-color: #434B5C;\n",
       "      box-shadow: 0px 1px 3px 1px rgba(0, 0, 0, 0.15);\n",
       "      filter: drop-shadow(0px 1px 2px rgba(0, 0, 0, 0.3));\n",
       "      fill: #FFFFFF;\n",
       "    }\n",
       "  </style>\n",
       "\n",
       "    <script>\n",
       "      const buttonEl =\n",
       "        document.querySelector('#df-beb5a29c-b49f-4be4-b910-abdf60af2a00 button.colab-df-convert');\n",
       "      buttonEl.style.display =\n",
       "        google.colab.kernel.accessAllowed ? 'block' : 'none';\n",
       "\n",
       "      async function convertToInteractive(key) {\n",
       "        const element = document.querySelector('#df-beb5a29c-b49f-4be4-b910-abdf60af2a00');\n",
       "        const dataTable =\n",
       "          await google.colab.kernel.invokeFunction('convertToInteractive',\n",
       "                                                    [key], {});\n",
       "        if (!dataTable) return;\n",
       "\n",
       "        const docLinkHtml = 'Like what you see? Visit the ' +\n",
       "          '<a target=\"_blank\" href=https://colab.research.google.com/notebooks/data_table.ipynb>data table notebook</a>'\n",
       "          + ' to learn more about interactive tables.';\n",
       "        element.innerHTML = '';\n",
       "        dataTable['output_type'] = 'display_data';\n",
       "        await google.colab.output.renderOutput(dataTable, element);\n",
       "        const docLink = document.createElement('div');\n",
       "        docLink.innerHTML = docLinkHtml;\n",
       "        element.appendChild(docLink);\n",
       "      }\n",
       "    </script>\n",
       "  </div>\n",
       "\n",
       "\n",
       "<div id=\"df-43375449-1561-4f2d-9a2f-502276b66378\">\n",
       "  <button class=\"colab-df-quickchart\" onclick=\"quickchart('df-43375449-1561-4f2d-9a2f-502276b66378')\"\n",
       "            title=\"Suggest charts\"\n",
       "            style=\"display:none;\">\n",
       "\n",
       "<svg xmlns=\"http://www.w3.org/2000/svg\" height=\"24px\"viewBox=\"0 0 24 24\"\n",
       "     width=\"24px\">\n",
       "    <g>\n",
       "        <path d=\"M19 3H5c-1.1 0-2 .9-2 2v14c0 1.1.9 2 2 2h14c1.1 0 2-.9 2-2V5c0-1.1-.9-2-2-2zM9 17H7v-7h2v7zm4 0h-2V7h2v10zm4 0h-2v-4h2v4z\"/>\n",
       "    </g>\n",
       "</svg>\n",
       "  </button>\n",
       "\n",
       "<style>\n",
       "  .colab-df-quickchart {\n",
       "      --bg-color: #E8F0FE;\n",
       "      --fill-color: #1967D2;\n",
       "      --hover-bg-color: #E2EBFA;\n",
       "      --hover-fill-color: #174EA6;\n",
       "      --disabled-fill-color: #AAA;\n",
       "      --disabled-bg-color: #DDD;\n",
       "  }\n",
       "\n",
       "  [theme=dark] .colab-df-quickchart {\n",
       "      --bg-color: #3B4455;\n",
       "      --fill-color: #D2E3FC;\n",
       "      --hover-bg-color: #434B5C;\n",
       "      --hover-fill-color: #FFFFFF;\n",
       "      --disabled-bg-color: #3B4455;\n",
       "      --disabled-fill-color: #666;\n",
       "  }\n",
       "\n",
       "  .colab-df-quickchart {\n",
       "    background-color: var(--bg-color);\n",
       "    border: none;\n",
       "    border-radius: 50%;\n",
       "    cursor: pointer;\n",
       "    display: none;\n",
       "    fill: var(--fill-color);\n",
       "    height: 32px;\n",
       "    padding: 0;\n",
       "    width: 32px;\n",
       "  }\n",
       "\n",
       "  .colab-df-quickchart:hover {\n",
       "    background-color: var(--hover-bg-color);\n",
       "    box-shadow: 0 1px 2px rgba(60, 64, 67, 0.3), 0 1px 3px 1px rgba(60, 64, 67, 0.15);\n",
       "    fill: var(--button-hover-fill-color);\n",
       "  }\n",
       "\n",
       "  .colab-df-quickchart-complete:disabled,\n",
       "  .colab-df-quickchart-complete:disabled:hover {\n",
       "    background-color: var(--disabled-bg-color);\n",
       "    fill: var(--disabled-fill-color);\n",
       "    box-shadow: none;\n",
       "  }\n",
       "\n",
       "  .colab-df-spinner {\n",
       "    border: 2px solid var(--fill-color);\n",
       "    border-color: transparent;\n",
       "    border-bottom-color: var(--fill-color);\n",
       "    animation:\n",
       "      spin 1s steps(1) infinite;\n",
       "  }\n",
       "\n",
       "  @keyframes spin {\n",
       "    0% {\n",
       "      border-color: transparent;\n",
       "      border-bottom-color: var(--fill-color);\n",
       "      border-left-color: var(--fill-color);\n",
       "    }\n",
       "    20% {\n",
       "      border-color: transparent;\n",
       "      border-left-color: var(--fill-color);\n",
       "      border-top-color: var(--fill-color);\n",
       "    }\n",
       "    30% {\n",
       "      border-color: transparent;\n",
       "      border-left-color: var(--fill-color);\n",
       "      border-top-color: var(--fill-color);\n",
       "      border-right-color: var(--fill-color);\n",
       "    }\n",
       "    40% {\n",
       "      border-color: transparent;\n",
       "      border-right-color: var(--fill-color);\n",
       "      border-top-color: var(--fill-color);\n",
       "    }\n",
       "    60% {\n",
       "      border-color: transparent;\n",
       "      border-right-color: var(--fill-color);\n",
       "    }\n",
       "    80% {\n",
       "      border-color: transparent;\n",
       "      border-right-color: var(--fill-color);\n",
       "      border-bottom-color: var(--fill-color);\n",
       "    }\n",
       "    90% {\n",
       "      border-color: transparent;\n",
       "      border-bottom-color: var(--fill-color);\n",
       "    }\n",
       "  }\n",
       "</style>\n",
       "\n",
       "  <script>\n",
       "    async function quickchart(key) {\n",
       "      const quickchartButtonEl =\n",
       "        document.querySelector('#' + key + ' button');\n",
       "      quickchartButtonEl.disabled = true;  // To prevent multiple clicks.\n",
       "      quickchartButtonEl.classList.add('colab-df-spinner');\n",
       "      try {\n",
       "        const charts = await google.colab.kernel.invokeFunction(\n",
       "            'suggestCharts', [key], {});\n",
       "      } catch (error) {\n",
       "        console.error('Error during call to suggestCharts:', error);\n",
       "      }\n",
       "      quickchartButtonEl.classList.remove('colab-df-spinner');\n",
       "      quickchartButtonEl.classList.add('colab-df-quickchart-complete');\n",
       "    }\n",
       "    (() => {\n",
       "      let quickchartButtonEl =\n",
       "        document.querySelector('#df-43375449-1561-4f2d-9a2f-502276b66378 button');\n",
       "      quickchartButtonEl.style.display =\n",
       "        google.colab.kernel.accessAllowed ? 'block' : 'none';\n",
       "    })();\n",
       "  </script>\n",
       "</div>\n",
       "\n",
       "    </div>\n",
       "  </div>\n"
      ],
      "text/plain": [
       "                                                 answer  \\\n",
       "7093  SELECT rating___percentage_ FROM table_name_73...   \n",
       "1405  SELECT us_viewers__millions_ FROM table_222652...   \n",
       "\n",
       "                                               question  \\\n",
       "7093  Name the rating % for channel of anhui satelli...   \n",
       "1405  How many million U.s. Viewers watched episode ...   \n",
       "\n",
       "                                                context  \\\n",
       "7093  CREATE TABLE table_name_73 (rating___percentag...   \n",
       "1405  CREATE TABLE table_22265225_1 (us_viewers__mil...   \n",
       "\n",
       "                                         systemInstruct  \\\n",
       "7093  You are a Database Query Assistant. Your role ...   \n",
       "1405  You are a Database Query Assistant. Your role ...   \n",
       "\n",
       "                                         input_question  \\\n",
       "7093  \\n\\n**Below the question with context that you...   \n",
       "1405  \\n\\n**Below the question with context that you...   \n",
       "\n",
       "                                       predicted_answer  \n",
       "7093  SELECT rating___percentage_ FROM table_name_73...  \n",
       "1405  SELECT us_viewers__millions_ FROM table_222652...  "
      ]
     },
     "execution_count": 149,
     "metadata": {},
     "output_type": "execute_result"
    }
   ],
   "source": [
    "test_df[\"predicted_answer\"] = test_df[\"input_question\"].progress_apply(lambda x: get_predictions(x, tuned_model))\n",
    "test_df.head(2)"
   ]
  },
  {
   "cell_type": "markdown",
   "metadata": {
    "id": "kBawjkvKQ_Q-"
   },
   "source": [
    "运行评估后，您可以看到经过微调的模型在我们的使用场景中整体表现更好。当然，具体性能会因使用场景或数据质量等因素而有所不同。"
   ]
  },
  {
   "cell_type": "code",
   "execution_count": 151,
   "metadata": {
    "colab": {
     "base_uri": "https://localhost:8080/"
    },
    "executionInfo": {
     "elapsed": 520,
     "status": "ok",
     "timestamp": 1746775093051,
     "user": {
      "displayName": "",
      "userId": ""
     },
     "user_tz": -480
    },
    "id": "zjoRgjg6fr0P",
    "outputId": "2a5576e4-302d-4a70-f204-98e9e22e6d80"
   },
   "outputs": [
    {
     "name": "stdout",
     "output_type": "stream",
     "text": [
      "EM score: 0.7726692209450831\n",
      "F1 score: 0.9689848850004285\n"
     ]
    }
   ],
   "source": [
    "em, f1 = calculate_em_and_f1(test_df[\"answer\"], test_df[\"predicted_answer\"])\n",
    "print(f\"EM score: {em}\")\n",
    "print(f\"F1 score: {f1}\")"
   ]
  }
 ],
 "metadata": {
  "accelerator": "GPU",
  "colab": {
   "gpuType": "L4",
   "name": "sft_gemini_qa.ipynb",
   "provenance": [],
   "toc_visible": true
  },
  "kernelspec": {
   "display_name": "Python 3",
   "name": "python3"
  }
 },
 "nbformat": 4,
 "nbformat_minor": 0
}
